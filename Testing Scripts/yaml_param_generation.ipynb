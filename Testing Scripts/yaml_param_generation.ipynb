{
 "cells": [
  {
   "cell_type": "code",
   "execution_count": 76,
   "metadata": {
    "ExecuteTime": {
     "end_time": "2018-03-01T21:51:44.304942Z",
     "start_time": "2018-03-01T21:51:44.210185Z"
    },
    "scrolled": true
   },
   "outputs": [
    {
     "name": "stdout",
     "output_type": "stream",
     "text": [
      "0.0% written\n"
     ]
    }
   ],
   "source": [
    "import numpy as np\n",
    "import yaml\n",
    "from itertools import product\n",
    "\n",
    "k = 3\n",
    "\n",
    "overall_seed = 2018\n",
    "overall_seed_state = np.random.RandomState(overall_seed)\n",
    "\n",
    "# batch_nums = [1]\n",
    "# sig2_mults = [0.5,1.,2.]\n",
    "# prior_cov_mults = [0.25,1.,4.]\n",
    "# gammas = [0.6,0.8,0.9,0.99]\n",
    "# lambs = [0.1,1.,10.]\n",
    "# N_c_mults = [0.25,0.5]\n",
    "# T_cs = [5, 10, 20]\n",
    "\n",
    "#DEEP SCAN VALUES\n",
    "batch_nums = list(range(k))\n",
    "sig2_mults = [0.5,1.,2.]\n",
    "prior_cov_mults = [0.1,0.5,1.,2.]\n",
    "gammas = [0.8,0.9,0.99,1.]\n",
    "lambs = [0.1,0.5, 1.,2.]\n",
    "N_c_mults = [0.25, 0.5,0.75]\n",
    "T_cs = [5, 10, 20]\n",
    "\n",
    "sim_count = len(batch_nums)*len(sig2_mults)*len(prior_cov_mults)*len(gammas)*len(lambs)*len(N_c_mults)*len(T_cs)\n",
    "\n",
    "\n",
    "split_seeds = overall_seed_state.randint(2**31, size = sim_count)\n",
    "sim_seeds = overall_seed_state.randint(2**31, size = sim_count)\n",
    "\n",
    "\n",
    "prior_mean = None\n",
    "resid_sig2 = None\n",
    "train = True\n",
    "computed = False\n",
    "\n",
    "out_dir = \"yamls/\"\n",
    "\n",
    "for sim_num, split_seed, sim_seed,(batch_num,sig2_mult,prior_cov_mult,gamma,lamb,N_c_mult,T_c) in zip(range(sim_count),split_seeds,sim_seeds, product(batch_nums,sig2_mults,prior_cov_mults,gammas,lambs,N_c_mults,T_cs)):\n",
    "    if sim_num % 100 == 0:\n",
    "        print(str(sim_num / sim_count) + \"% written\")\n",
    "    params = {\"prior_mean\":prior_mean,\n",
    "    \"resid_sig2\":resid_sig2,\n",
    "    \"batch_num\":batch_num,\n",
    "    \"split_seed\":int(split_seed),\n",
    "    \"k\":k,\n",
    "    \"train\":train,\n",
    "    \"T_c\":T_c,\n",
    "    \"N_c_mult\":N_c_mult,\n",
    "    \"lamb\":lamb,\n",
    "    \"prior_cov_mult\":prior_cov_mult,\n",
    "    \"gamma\":gamma,\n",
    "    \"sig2_mult\":sig2_mult,\n",
    "    \"sim_seed\":int(sim_seed),\n",
    "    \"computed\":computed}\n",
    "    with open(out_dir + \"params\"+str(sim_num)+\".yaml\",\"w\") as f:\n",
    "        yaml.dump(params,f)"
   ]
  },
  {
   "cell_type": "code",
   "execution_count": 68,
   "metadata": {
    "ExecuteTime": {
     "end_time": "2018-03-01T21:42:12.450049Z",
     "start_time": "2018-03-01T21:42:12.446040Z"
    }
   },
   "outputs": [
    {
     "data": {
      "text/plain": [
       "36.9792"
      ]
     },
     "execution_count": 68,
     "metadata": {},
     "output_type": "execute_result"
    }
   ],
   "source": [
    "((1+47/60)*sim_count)/250"
   ]
  },
  {
   "cell_type": "code",
   "execution_count": 69,
   "metadata": {
    "ExecuteTime": {
     "end_time": "2018-03-01T21:44:02.672706Z",
     "start_time": "2018-03-01T21:44:02.668194Z"
    }
   },
   "outputs": [
    {
     "data": {
      "text/plain": [
       "5184"
      ]
     },
     "execution_count": 69,
     "metadata": {},
     "output_type": "execute_result"
    }
   ],
   "source": [
    "sim_count"
   ]
  },
  {
   "cell_type": "code",
   "execution_count": 71,
   "metadata": {
    "ExecuteTime": {
     "end_time": "2018-03-01T21:45:01.246842Z",
     "start_time": "2018-03-01T21:45:01.243807Z"
    },
    "collapsed": true
   },
   "outputs": [],
   "source": [
    "import datetime"
   ]
  },
  {
   "cell_type": "code",
   "execution_count": 73,
   "metadata": {
    "ExecuteTime": {
     "end_time": "2018-03-01T21:45:06.161048Z",
     "start_time": "2018-03-01T21:45:06.156033Z"
    }
   },
   "outputs": [
    {
     "name": "stdout",
     "output_type": "stream",
     "text": [
      "2018-03-01 16:45:06.157537\n"
     ]
    }
   ],
   "source": [
    "print(datetime.datetime.now())"
   ]
  },
  {
   "cell_type": "code",
   "execution_count": 11,
   "metadata": {
    "ExecuteTime": {
     "end_time": "2018-03-01T21:19:28.885295Z",
     "start_time": "2018-03-01T21:19:28.877267Z"
    },
    "collapsed": true
   },
   "outputs": [],
   "source": [
    "with open(\"yamls/params0.yaml\") as f:\n",
    "    params = yaml.load(f)"
   ]
  },
  {
   "cell_type": "code",
   "execution_count": 51,
   "metadata": {
    "ExecuteTime": {
     "end_time": "2018-03-01T21:35:07.941915Z",
     "start_time": "2018-03-01T21:35:07.937897Z"
    },
    "collapsed": true
   },
   "outputs": [],
   "source": [
    "prior_mean = np.arange((12))\n",
    "resid_sig2 = np.mean(prior_mean)"
   ]
  },
  {
   "cell_type": "code",
   "execution_count": 58,
   "metadata": {
    "ExecuteTime": {
     "end_time": "2018-03-01T21:35:22.408711Z",
     "start_time": "2018-03-01T21:35:22.405683Z"
    },
    "collapsed": true
   },
   "outputs": [],
   "source": [
    "prior_mean = prior_mean + prior_mean * 1e-12"
   ]
  },
  {
   "cell_type": "code",
   "execution_count": 21,
   "metadata": {
    "ExecuteTime": {
     "end_time": "2018-03-01T21:22:49.285190Z",
     "start_time": "2018-03-01T21:22:49.280651Z"
    }
   },
   "outputs": [
    {
     "data": {
      "text/plain": [
       "[0.0, 0.0, 0.0, 0.0, 0.0, 0.0, 0.0, 0.0, 0.0, 0.0, 0.0, 0.0]"
      ]
     },
     "execution_count": 21,
     "metadata": {},
     "output_type": "execute_result"
    }
   ],
   "source": [
    "params[prior_mean.tolist()"
   ]
  },
  {
   "cell_type": "code",
   "execution_count": 26,
   "metadata": {
    "ExecuteTime": {
     "end_time": "2018-03-01T21:30:37.230173Z",
     "start_time": "2018-03-01T21:30:37.223654Z"
    }
   },
   "outputs": [
    {
     "data": {
      "text/plain": [
       "float"
      ]
     },
     "execution_count": 26,
     "metadata": {},
     "output_type": "execute_result"
    }
   ],
   "source": [
    "type(float(resid_sig2))"
   ]
  },
  {
   "cell_type": "code",
   "execution_count": 59,
   "metadata": {
    "ExecuteTime": {
     "end_time": "2018-03-01T21:35:27.548131Z",
     "start_time": "2018-03-01T21:35:27.541618Z"
    },
    "collapsed": true
   },
   "outputs": [],
   "source": []
  },
  {
   "cell_type": "code",
   "execution_count": 60,
   "metadata": {
    "ExecuteTime": {
     "end_time": "2018-03-01T21:35:27.917116Z",
     "start_time": "2018-03-01T21:35:27.907588Z"
    }
   },
   "outputs": [
    {
     "data": {
      "text/plain": [
       "{'N_c_mult': 0.25,\n",
       " 'T_c': 5,\n",
       " 'batch_num': 0,\n",
       " 'computed': True,\n",
       " 'gamma': 0.8,\n",
       " 'k': 3,\n",
       " 'lamb': 0.1,\n",
       " 'prior_cov_mult': 0.1,\n",
       " 'prior_mean': [0.0,\n",
       "  1.000000000001,\n",
       "  2.000000000002,\n",
       "  3.000000000003,\n",
       "  4.000000000004,\n",
       "  5.000000000005,\n",
       "  6.000000000006,\n",
       "  7.000000000007,\n",
       "  8.000000000008,\n",
       "  9.000000000009,\n",
       "  10.00000000001,\n",
       "  11.000000000011],\n",
       " 'resid_sig2': 5.5,\n",
       " 'sig2_mult': 0.5,\n",
       " 'sim_seed': 735063209,\n",
       " 'split_seed': 1642177786,\n",
       " 'train': False}"
      ]
     },
     "execution_count": 60,
     "metadata": {},
     "output_type": "execute_result"
    }
   ],
   "source": [
    "params"
   ]
  },
  {
   "cell_type": "code",
   "execution_count": 61,
   "metadata": {
    "ExecuteTime": {
     "end_time": "2018-03-01T21:35:29.837596Z",
     "start_time": "2018-03-01T21:35:29.820552Z"
    },
    "collapsed": true
   },
   "outputs": [],
   "source": [
    "with open(\"yamls/params0.yaml\",'w') as f:\n",
    "    yaml.dump(params, f)"
   ]
  },
  {
   "cell_type": "code",
   "execution_count": null,
   "metadata": {
    "collapsed": true
   },
   "outputs": [],
   "source": []
  },
  {
   "cell_type": "code",
   "execution_count": 74,
   "metadata": {
    "ExecuteTime": {
     "end_time": "2018-03-01T21:49:12.791488Z",
     "start_time": "2018-03-01T21:49:12.784478Z"
    },
    "collapsed": true
   },
   "outputs": [],
   "source": [
    "with open(\"yamls/params0.yaml\") as f:\n",
    "    params = yaml.load(f)"
   ]
  },
  {
   "cell_type": "code",
   "execution_count": 75,
   "metadata": {
    "ExecuteTime": {
     "end_time": "2018-03-01T21:49:13.895152Z",
     "start_time": "2018-03-01T21:49:13.889139Z"
    }
   },
   "outputs": [
    {
     "data": {
      "text/plain": [
       "{'N_c_mult': 0.25,\n",
       " 'T_c': 5,\n",
       " 'batch_num': 0,\n",
       " 'computed': True,\n",
       " 'gamma': 0.8,\n",
       " 'k': 3,\n",
       " 'lamb': 0.1,\n",
       " 'prior_cov_mult': 0.1,\n",
       " 'prior_mean': [0.0,\n",
       "  1.000000000001,\n",
       "  2.000000000002,\n",
       "  3.000000000003,\n",
       "  4.000000000004,\n",
       "  5.000000000005,\n",
       "  6.000000000006,\n",
       "  7.000000000007,\n",
       "  8.000000000008,\n",
       "  9.000000000009,\n",
       "  10.00000000001,\n",
       "  11.000000000011],\n",
       " 'resid_sig2': 5.5,\n",
       " 'sig2_mult': 0.5,\n",
       " 'sim_seed': 735063209,\n",
       " 'split_seed': 1642177786,\n",
       " 'train': False}"
      ]
     },
     "execution_count": 75,
     "metadata": {},
     "output_type": "execute_result"
    }
   ],
   "source": [
    "params"
   ]
  },
  {
   "cell_type": "code",
   "execution_count": 35,
   "metadata": {
    "ExecuteTime": {
     "end_time": "2018-03-01T21:33:39.007343Z",
     "start_time": "2018-03-01T21:33:39.001864Z"
    }
   },
   "outputs": [
    {
     "data": {
      "text/plain": [
       "{'N_c_mult': 0.25,\n",
       " 'T_c': 5,\n",
       " 'batch_num': 0,\n",
       " 'computed': True,\n",
       " 'gamma': 0.8,\n",
       " 'k': 3,\n",
       " 'lamb': 0.1,\n",
       " 'prior_cov_mult': 0.1,\n",
       " 'prior_mean': [0.0, 0.0, 0.0, 0.0, 0.0, 0.0, 0.0, 0.0, 0.0, 0.0, 0.0, 0.0],\n",
       " 'resid_sig2': 0.0,\n",
       " 'sig2_mult': 0.5,\n",
       " 'sim_seed': 735063209,\n",
       " 'split_seed': 1642177786,\n",
       " 'train': False}"
      ]
     },
     "execution_count": 35,
     "metadata": {},
     "output_type": "execute_result"
    }
   ],
   "source": [
    "params"
   ]
  }
 ],
 "metadata": {
  "kernelspec": {
   "display_name": "Python 3",
   "language": "python",
   "name": "python3"
  },
  "language_info": {
   "codemirror_mode": {
    "name": "ipython",
    "version": 3
   },
   "file_extension": ".py",
   "mimetype": "text/x-python",
   "name": "python",
   "nbconvert_exporter": "python",
   "pygments_lexer": "ipython3",
   "version": "3.6.4"
  },
  "latex_envs": {
   "LaTeX_envs_menu_present": true,
   "autocomplete": true,
   "bibliofile": "biblio.bib",
   "cite_by": "apalike",
   "current_citInitial": 1,
   "eqLabelWithNumbers": true,
   "eqNumInitial": 1,
   "hotkeys": {
    "equation": "Ctrl-E",
    "itemize": "Ctrl-I"
   },
   "labels_anchors": false,
   "latex_user_defs": false,
   "report_style_numbering": false,
   "user_envs_cfg": false
  }
 },
 "nbformat": 4,
 "nbformat_minor": 2
}
