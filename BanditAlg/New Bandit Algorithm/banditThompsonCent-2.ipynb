{
 "cells": [
  {
   "cell_type": "markdown",
   "metadata": {},
   "source": [
    "# Peng's updated Kristjan's Bandit Algorithm for HS2"
   ]
  },
  {
   "cell_type": "code",
   "execution_count": 2,
   "metadata": {
    "ExecuteTime": {
     "end_time": "2018-02-05T04:36:41.728962Z",
     "start_time": "2018-02-05T04:36:41.719937Z"
    },
    "code_folding": []
   },
   "outputs": [],
   "source": [
    "#Imports\n",
    "\n",
    "%matplotlib inline\n",
    "import numpy as np\n",
    "import seaborn as sns\n",
    "import matplotlib.pyplot as plt\n",
    "import pandas as pd\n",
    "import statsmodels.api as sm\n",
    "from scipy.stats import norm\n",
    "import pickle\n"
   ]
  },
  {
   "cell_type": "code",
   "execution_count": 3,
   "metadata": {
    "ExecuteTime": {
     "end_time": "2018-02-05T04:36:42.496253Z",
     "start_time": "2018-02-05T04:36:42.111692Z"
    },
    "code_folding": [],
    "collapsed": true
   },
   "outputs": [],
   "source": [
    "#A bandit model, consisting of reward coefficient mean and covariance\n",
    "\n",
    "# From Peng's 2-1 algorithm; action-centered bandit (algorithm 2)\n",
    "\n",
    "\n",
    "class model:\n",
    "    def __init__(self,mu,Sigma):\n",
    "        self.mu = mu\n",
    "        self.Sigma = Sigma\n",
    "        \n",
    "\n",
    "#THE BANDIT CODE (in class form)\n",
    "\n",
    "class ContextBandit:\n",
    "    #Bandit Object\n",
    "    def __init__(self,nInteract, pc_params,prior_model, gamma, fc_params, f_baseline, f_interact, sigma2 = 1., prior_weight = 1.):\n",
    "        '''\n",
    "        pc_params: (pi_min, pi_max) parameters for probability clipping\n",
    "        prior_model: prior Gaussian model with \\mu_\\beta, \\Sigma_\\beta\n",
    "        gamma: gamma for GP Prior\n",
    "        fc_params: feedback controller parameters: (\\lambda_c, N_c, T_c)\n",
    "            T_c: maximum number of decision times to count dosage\n",
    "        f_baseline: baseline feature mapping; f: S \\to R^p_1\n",
    "        f_interact: interaction feature mapping; f_interact: S' \\to R^p_2\n",
    "        sigma2: reward noise estimate (variance)\n",
    "        prior_weight: how much to weigh prior, set to 1 for full weight\n",
    "        '''\n",
    "        #initialize input parameters\n",
    "        self.nInteract = nInteract\n",
    "        self.pi_min = pc_params[0]\n",
    "        self.pi_max = pc_params[1]\n",
    "        self.gamma = gamma\n",
    "        self.sigma2 = sigma2\n",
    "\n",
    "        self.f_baseline = f_baseline\n",
    "        self.f_interact = f_interact\n",
    "\n",
    "        self.lambda_c = fc_params[0]\n",
    "        self.N_c = fc_params[1]\n",
    "        self.T_c = fc_params[2]\n",
    "\n",
    "        # self.v = 1e-1 #tuning parameter - multiplier on bandit prior covariances \n",
    "\n",
    "        \n",
    "        #Initialize model to prior data model\n",
    "        # Mean = prior_weight * prior_model.mu,\n",
    "        # Cov = I_n + prior_weight * prior_model.Sigma\n",
    "        \n",
    "        self.prior_model = prior_model\n",
    "\n",
    "        # This is mu and Sigma\n",
    "        self.current_model = model(prior_weight*prior_model.mu,\n",
    "            np.eye(len(prior_model.mu)) + prior_weight*prior_model.Sigma)\n",
    "        # This is mu' and Sigma'\n",
    "        self.daystart_model = model(prior_weight*prior_model.mu,\n",
    "            np.eye(len(prior_model.mu)) + prior_weight*prior_model.Sigma)\n",
    "        \n",
    "    def process_context(self, I_T, S_T, N_t):\n",
    "        '''\n",
    "        Inputs context for a given decision point,\n",
    "        updates the current day's model, and returns action probability alpha\n",
    "\n",
    "        Line 20 of algorithm\n",
    "\n",
    "        I_T: Current availability\n",
    "        S_T: Current state\n",
    "        N_t: Dosage over past T_c decision times; number of messages sent since present minus T_c\n",
    "        Returns: alpha, probability of taking action 1\n",
    "        '''\n",
    "        if I_T == 1:\n",
    "            current_model = self.current_model\n",
    "            # Current Posterior mean and variance for interaction term\n",
    "            mu2 = current_model.mu[1:1+self.nInteract]\n",
    "            Sigma2 = current_model.Sigma[1:1+self.nInteract,1:1+self.nInteract]\n",
    "\n",
    "            # Compute probability of unclipped randomization probability\n",
    "            X_mean = self.f_interact(S_T).T.dot(mu2) - self.lambda_c*(N_t - self.N_c)*(N_t - self.N_c > 0)\n",
    "            X_var = self.f_interact(S_T).dot(Sigma2.dot(self.f_interact(S_T).T))\n",
    "\n",
    "            # Actual probability\n",
    "            pi_t = 1 - norm.cdf(0, X_mean, np.sqrt(X_var))\n",
    "\n",
    "            if pi_t < self.pi_min:\n",
    "                alpha = self.pi_min\n",
    "            elif pi_t > self.pi_max:\n",
    "                alpha = self.pi_max\n",
    "            else: \n",
    "                alpha = pi_t\n",
    "            # print(mean, variance, alpha)\n",
    "\n",
    "        else:\n",
    "            alpha = 0\n",
    "\n",
    "        # Update current model to posterior of Gaussian Process\n",
    "        self.current_model.mu = (1-self.gamma)*self.prior_model.mu + self.gamma * self.current_model.mu\n",
    "        self.current_model.Sigma = (1 - self.gamma ** 2.) * self.prior_model.Sigma + (self.gamma ** 2.) * self.current_model.Sigma \n",
    "\n",
    "            \n",
    "        return alpha #probability of taking action 1\n",
    "\n",
    "        \n",
    "    ######\n",
    "    \n",
    "    def update_model(self, S_T, R_T, A_T, pi_T, I_T, t = 5):\n",
    "        # Update at end of day\n",
    "        '''\n",
    "        At end of day, updates the model given the \n",
    "        S_T: states for day T\n",
    "        R_T: rewards for day T\n",
    "        A_T: actions for day T\n",
    "        pi_T: probabilities of action 1 for day T\n",
    "        I_T: availability for each time point on day T\n",
    "        t: number of decision points per day, defaults to 5\n",
    "        '''\n",
    "\n",
    "        # Set aliases for the current model\n",
    "        current_model = self.current_model\n",
    "        current_model.mu = self.daystart_model.mu\n",
    "        current_model.Sigma = self.daystart_model.Sigma\n",
    "\n",
    "        for dpt in range(t):\n",
    "            # If available then:\n",
    "            if I_T[dpt]:\n",
    "                f_t = np.concatenate([self.f_baseline(S_T[dpt]), (A_T[dpt] - pi_T[dpt]) * self.f_interact(S_T[dpt])], axis=0)\n",
    "            \n",
    "                \n",
    "                Sigma_dot_f_t = np.expand_dims(current_model.Sigma.dot(f_t),1)\n",
    "                denom = self.sigma2 + f_t.T.dot(Sigma_dot_f_t)\n",
    "                beta = current_model.mu + (R_T[dpt] - f_t.T.dot(current_model.mu)) / denom * Sigma_dot_f_t\n",
    "                Omega = current_model.Sigma - 1. / denom * Sigma_dot_f_t.dot(Sigma_dot_f_t.T)\n",
    "                current_model.mu = self.gamma * beta           + (1 - self.gamma) * self.prior_model.mu\n",
    "                current_model.Sigma = (self.gamma ** 2.) * Omega + (1 - self.gamma ** 2.) * self.prior_model.Sigma\n",
    "                \n",
    "\n",
    "\n",
    "\n",
    "        \n",
    "        # New day, new model\n",
    "\n",
    "        self.daystart_model.mu = current_model.mu.copy()\n",
    "        self.daystart_model.Sigma = current_model.Sigma.copy()\n",
    "        \n",
    "########\n"
   ]
  },
  {
   "cell_type": "code",
   "execution_count": 4,
   "metadata": {
    "ExecuteTime": {
     "end_time": "2018-02-05T04:36:44.003302Z",
     "start_time": "2018-02-05T04:36:42.952152Z"
    },
    "code_folding": [],
    "collapsed": true
   },
   "outputs": [],
   "source": [
    "# HS Analysis Functions\n",
    "\n",
    "### Aux Functions for reading two different .csv files ###\n",
    "def read_hs1(yoozer, hs1_file = \"../../../Data/suggest-analysis-kristjan.csv\"):\n",
    "    pd_df = pd.read_csv(hs1_file) #'suggest-analysis-kristjan.csv')\n",
    "    pdf = pd_df[:179]\n",
    "    snda = pd_df['send.active'] == 1\n",
    "    snd = pd_df['send'] == 0\n",
    "    usr = pd_df['user'] == yoozer\n",
    "    ddf = pd_df[(snda | snd) & usr]\n",
    "    ddf = ddf.reset_index(drop=True)\n",
    "    \n",
    "    \n",
    "    return ddf,pd_df\n",
    "\n",
    "def read_hs1_gf(yoozer, hs1_gf_file = '../../../Data/suggest-kristjan.csv'):\n",
    "    pd_df = pd.read_csv(hs1_gf_file) #'suggest-analysis-kristjan.csv')\n",
    "    pdf = pd_df[:179]\n",
    "    snda = pd_df['send.active'] == 1\n",
    "    snd = pd_df['send'] == 0\n",
    "    usr = pd_df['user'] == yoozer\n",
    "    ddf = pd_df[(snda | snd) & usr]\n",
    "    ddf = ddf.reset_index(drop=True)\n",
    "\n",
    "    return ddf,pd_df\n",
    "\n",
    "\n",
    "def nan_equal(a,b):\n",
    "    return ((a == b) | (np.isnan(a) & np.isnan(b))).all()\n",
    "\n",
    "def read_data(N, T, t, nBaseline):\n",
    "    ### Read in Feature vector, Reward Vector, and Action Vector for each user ###\n",
    "    # Also Standardizes all features\n",
    "\n",
    "    max_yoozer = N+1\n",
    "\n",
    "    featVec = np.empty((max_yoozer,T*t, nBaseline))\n",
    "    featVec.fill(np.nan)\n",
    "\n",
    "    rewardVec = np.empty((max_yoozer,T*t))\n",
    "    rewardVec.fill(np.nan)\n",
    "\n",
    "    actionVec = np.empty((max_yoozer,T*t))\n",
    "    actionVec.fill(np.nan)\n",
    "\n",
    "    # Bias term\n",
    "\n",
    "    for yoozer in range(1,max_yoozer):\n",
    "    #     print(\"Processeing User: \", yoozer)\n",
    "\n",
    "        ddf,pd_df = read_hs1(yoozer)\n",
    "        #Make features\n",
    "        #Center and scale\n",
    "        decision_ind = ddf['decision.index.nogap']\n",
    "        reward_h = ddf['jbsteps30.log']\n",
    "        send_any = ddf['send']\n",
    "        send_active = ddf['send.active']\n",
    "\n",
    "        assert np.all(send_any == send_active)\n",
    "\n",
    "        #total_sent = ddf['totalSent']\n",
    "        # Study day index\n",
    "        dazze = ddf['study.day.nogap']\n",
    "\n",
    "        # Number of messages sent in last week\n",
    "        day_ind  = (ddf['study.day.nogap'] - np.mean(pd_df['study.day.nogap']))/np.std(pd_df['study.day.nogap'])#Number sent in last whatever\n",
    "        #Add feature for # of week period (hsteps v2) WATCH OUT FOR COLINEARITY WITH INTERCEPT\n",
    "\n",
    "        # Ohter location indicator\n",
    "        loc_ind = ddf['loc.is.other']\n",
    "\n",
    "        # Std deviation of step count in last 7 days\n",
    "        steps_sd = (ddf['window7.steps60.sd'] - np.mean(pd_df['window7.steps60.sd']))/np.std(pd_df['window7.steps60.sd'])\n",
    "\n",
    "        # Step count in previous 30 minutes\n",
    "        state = (ddf['jbsteps30pre.log'] - np.mean(pd_df['jbsteps30pre.log']))/np.std(pd_df['jbsteps30pre.log'])\n",
    "\n",
    "        # Work location indicator\n",
    "        #wrk_ind = ddf['location.category'], #loc_ind = ddf['location.category']\n",
    "        wrk_ind = ddf['loc.is.work'] #compare to string “work”\n",
    "\n",
    "        # Square root steps yesterday\n",
    "        steps_yest = (ddf['steps.yesterday.sqrt'] - np.mean(pd_df['steps.yesterday.sqrt']))/np.std(pd_df['steps.yesterday.sqrt'])\n",
    "\n",
    "        # Temperature, set -1024 as 0\n",
    "        temp = (ddf['temperature'] - np.mean(pd_df['temperature']))/np.std(pd_df['temperature'])\n",
    "        temp[ddf['temperature'] == -1024] = 0\n",
    "\n",
    "        ddfgf,pd_dfgf = read_hs1_gf(yoozer)\n",
    "\n",
    "        # ?? Unclear what this is\n",
    "        # Reward: Step count in 30 minutes following decision point\n",
    "        steps_gf = (np.log(ddfgf['gfsteps30pre'] + .5) - np.mean(np.log(pd_dfgf['gfsteps30pre'] + .5))/np.std(np.log(pd_dfgf['gfsteps30pre']+.5)))\n",
    "\n",
    "        end_ind = day_ind.shape[0]\n",
    "\n",
    "\n",
    "        # Set reward, action, and state\n",
    "        rewardVec[yoozer,:end_ind] = reward_h.astype(float)\n",
    "        actionVec[yoozer,:end_ind] = send_any.astype(float)\n",
    "\n",
    "        featVec[yoozer,:end_ind,0].fill(1) # Only fill rows with observations\n",
    "        featVec[yoozer,:end_ind,1] = day_ind #study.day.nogap\n",
    "        featVec[yoozer,:end_ind,2] = loc_ind.astype(int) # loc.is.other\n",
    "        featVec[yoozer,:end_ind,3] = steps_sd.astype(float) # window7.steps60.sd\n",
    "        featVec[yoozer,:end_ind,4] = state # jbsteps30pre.log\n",
    "        featVec[yoozer,:end_ind,5] = wrk_ind.astype(int) # loc.is.work\n",
    "        featVec[yoozer,:end_ind,6] = steps_yest # steps.yesterday.sqrt\n",
    "        featVec[yoozer,:end_ind,7] = temp.astype(float) # temperature\n",
    "\n",
    "        # This was included but didn't make too much sense\n",
    "    #     featVec[yoozer,:end_ind,8] = steps_gf.astype(float)[:day_ind.shape[0]]\n",
    "    \n",
    "    ## TREAT DATA ##\n",
    "\n",
    "    # Drop 0th user, since users are 1-indexed\n",
    "    featVec = featVec[1:,:,:].copy()\n",
    "    rewardVec = rewardVec[1:,:].copy()\n",
    "    actionVec = actionVec[1:,:].copy()\n",
    "\n",
    "    # Reshape actionVec to have additional 1 dim\n",
    "    actionVec = actionVec.reshape(actionVec.shape[0],actionVec.shape[1],1)\n",
    "\n",
    "    # Mean impute featVec where there is an observation\n",
    "    featVec[~np.isnan(featVec[:,:,1])] = np.nan_to_num(featVec[~np.isnan(featVec[:,:,1])])\n",
    "    \n",
    "    return featVec, rewardVec, actionVec\n",
    "\n",
    "def resid_regression(N, T, t, nBaseline, rewardVec, actionVec, featVec):\n",
    "    '''Perform Regression on Pooled R ~ A*S' + S to create Residuals'''\n",
    "    # Actual Dimensions of A and S\n",
    "    a_dim = 1\n",
    "    s_dim = nBaseline\n",
    "\n",
    "    # Copy for notational ease\n",
    "    R = rewardVec.copy()\n",
    "    A = actionVec.copy()\n",
    "    S = featVec.copy()\n",
    "\n",
    "\n",
    "    # Fit OLS r ~ (a_t s'_t, s_t)^T \\eta, where s' are interact terms and s are all baseline\n",
    "    resid_model = sm.OLS(endog = R.reshape(N*T*t), exog = np.concatenate([(A * S[:,:,1:1+nInteract]), S], 2).reshape((N*T*t,(nInteract + nBaseline))), missing = \"drop\")\n",
    "    resids_unproc = resid_model.fit().resid\n",
    "\n",
    "    # Parameters\n",
    "    Etas_fit = resid_model.fit().params\n",
    "\n",
    "\n",
    "    ## Fill resids ##\n",
    "\n",
    "    # Copy shape and location of nans\n",
    "    resids = rewardVec.copy()\n",
    "\n",
    "    curr_ind = 0\n",
    "    for n in range(N):\n",
    "\n",
    "        old_ind = curr_ind\n",
    "        curr_ind += R[n][~np.isnan(R[n])].shape[0]\n",
    "\n",
    "        # Copy in indices\n",
    "        resids[n][:curr_ind-old_ind] = resids_unproc[old_ind:curr_ind]\n",
    "    \n",
    "    return resids, Etas_fit\n",
    "\n",
    "\n",
    "# # Code to Generate Simulated Users\n",
    "def generate_new_users(resids, A, S, N_new, T_new, T, t, users_to_sample = 10):\n",
    "    '''\n",
    "    Generates new random user\n",
    "    \n",
    "    Inputs:\n",
    "        resids: Residuals\n",
    "        A: Actions\n",
    "        S: States\n",
    "        N_new: Int of number of new users to generate from sampling\n",
    "        T_new: Int of number of days for each new user\n",
    "    \n",
    "    Returns:\n",
    "        resids_new: Matrix of resids for sampled users\n",
    "        A_new: Matrix of associated actions for sampled users\n",
    "        S_new: Matrix of associated states for sampled users\n",
    "        \n",
    "    *Assumes shapes:\n",
    "      resids: (N, T * t) \n",
    "      A: (N, T * t, )\n",
    "    '''\n",
    "    \n",
    "    # Obtain original dimensions of data from actions A\n",
    "    N = A.shape[0]\n",
    "\n",
    "    # Component dims of A and S \n",
    "    a_dim = A.shape[2]\n",
    "    s_dim = S.shape[2]\n",
    "\n",
    "    # Sample random users from original data\n",
    "    sampled_user_indices = np.empty((N_new, users_to_sample)).astype(int)\n",
    "\n",
    "    # Loop to reset sampling without replacement for each new user\n",
    "    for i in range(N_new):\n",
    "        sampled_user_indices[i] = np.random.choice(N, size = users_to_sample, replace = False)\n",
    "    \n",
    "    # Concatenate resids, A, and S to ensure processing is uniform\n",
    "    concat_data = np.concatenate([np.expand_dims(resids,2),A,S], axis = 2)\n",
    "    sampled_users_untreated = np.take(concat_data, sampled_user_indices, 0).reshape(N_new, users_to_sample * T*t, 1 + a_dim + s_dim)\n",
    "    sampled_users = np.empty((N_new, T_new * t, 1 + a_dim + s_dim))\n",
    "    \n",
    "    for i in range(N_new):\n",
    "        \n",
    "        # Cast to DataFrame to dropna, reset index to shift datapoints up to be consecutive, takes T_new * t datapoints\n",
    "        sampled_users[i] = pd.DataFrame(sampled_users_untreated[i]).apply(lambda col: col.dropna().reset_index().iloc[:,-1], axis = 0).as_matrix()[:T_new * t]\n",
    "        \n",
    "    # Sampled Generated residuals\n",
    "    resids_new = sampled_users[:,:,0].reshape(N_new, T_new, t)\n",
    "    # Sampled actions\n",
    "    A_new = sampled_users[:,:,1:(1+a_dim)].reshape(N_new, T_new, t, a_dim)\n",
    "    # Sampled states\n",
    "    S_new = sampled_users[:,:,(1+a_dim):].reshape(N_new, T_new, t, s_dim)\n",
    "    \n",
    "    return resids_new, A_new, S_new\n",
    "\n",
    "\n",
    "\n",
    "def reward_func(resid, a, s, Eta, nInteract = 3):\n",
    "    '''Basic reward function, can edit for different generative models.\n",
    "    Works for multidimensional eta, a, and s, so long as they are of same multidimension.\n",
    "    Assumes s has first element as bias for the regression.'''\n",
    "    return(resid + np.concatenate([a * np.take(s,range(1,1+nInteract),-1), s], a.ndim-1).dot(Eta))\n",
    "\n"
   ]
  },
  {
   "cell_type": "code",
   "execution_count": 5,
   "metadata": {
    "ExecuteTime": {
     "end_time": "2018-02-05T04:36:55.238690Z",
     "start_time": "2018-02-05T04:36:44.005300Z"
    }
   },
   "outputs": [
    {
     "name": "stderr",
     "output_type": "stream",
     "text": [
      "C:\\Users\\isaac\\Anaconda3\\lib\\site-packages\\IPython\\core\\interactiveshell.py:2862: DtypeWarning: Columns (15,16,18,60,61,96,97,112,113) have mixed types. Specify dtype option on import or set low_memory=False.\n",
      "  exec(code_obj, self.user_global_ns, self.user_ns)\n"
     ]
    }
   ],
   "source": [
    "## Creating Simulations\n",
    "\n",
    "# Counts from HS 1\n",
    "N = 48\n",
    "T = 41\n",
    "t = 5\n",
    "nBaseline = 1+7\n",
    "nInteract = 3 # Add 1 for bias term\n",
    "\n",
    "N_new = 20\n",
    "T_new = 90\n",
    "\n",
    "S, R, A = read_data(N, T, t, nBaseline)\n",
    "resids, Etas_fit = resid_regression(N, T, t, nBaseline, R, A, S)\n",
    "resids_new, A_new, S_new = generate_new_users(resids, A, S, 20, 90, T, t)\n",
    "I_new = np.ones_like(A_new)\n"
   ]
  },
  {
   "cell_type": "code",
   "execution_count": 6,
   "metadata": {
    "ExecuteTime": {
     "end_time": "2018-02-05T04:36:55.250230Z",
     "start_time": "2018-02-05T04:36:55.240700Z"
    }
   },
   "outputs": [
    {
     "data": {
      "text/plain": [
       "array([-0.21181203, -0.16692167,  0.08116949,  3.04487594, -0.02305797,\n",
       "        0.06443497,  0.18900795,  1.36208089,  0.30135504,  0.23107337,\n",
       "        0.38301622])"
      ]
     },
     "execution_count": 6,
     "metadata": {},
     "output_type": "execute_result"
    }
   ],
   "source": [
    "# VARIABLES FROM ABOVE CELL\n",
    "\n",
    "S_new # Baseline States for simulated users\n",
    "resids_new # Residuals; note this does not match up with Kristjan's Eta definition (he treats this as baseline OLS coefficient)\n",
    "\n",
    "# Etas[0:3] is action*interact features\n",
    "# Etas[3] is state bias (1's)\n",
    "# Etas[4:11] are baseline features\n",
    "Etas_fit"
   ]
  },
  {
   "cell_type": "code",
   "execution_count": 7,
   "metadata": {
    "ExecuteTime": {
     "end_time": "2018-02-05T04:36:55.277964Z",
     "start_time": "2018-02-05T04:36:55.252733Z"
    },
    "collapsed": true
   },
   "outputs": [],
   "source": [
    "#Create a reward function from true coefficients, with residuals non-mandatory\n",
    "def reward(featVec,action,coef0,coef1, resid = 0):\n",
    "    \n",
    "    nInteract = len(coef1)\n",
    "    \n",
    "    predictors = np.concatenate([action * np.take(featVec,range(1,1+nInteract),-1), featVec], 0)\n",
    "    Eta = np.concatenate([coef1, coef0])\n",
    "    \n",
    "    return(resid + np.dot(predictors, Eta))"
   ]
  },
  {
   "cell_type": "code",
   "execution_count": 8,
   "metadata": {
    "ExecuteTime": {
     "end_time": "2018-02-05T04:36:55.613806Z",
     "start_time": "2018-02-05T04:36:55.279941Z"
    },
    "collapsed": true
   },
   "outputs": [],
   "source": [
    "#A simulation of above standard model.\n",
    "\n",
    "def f_baseline(featVec):\n",
    "    return featVec\n",
    "\n",
    "def f_interact(featVec):\n",
    "    return featVec[1:1+3]\n",
    "\n",
    "\n",
    "def run_simulation(coef0, coef1, S_sim, I_sim, resids_sim, reward_func, prior_model,\n",
    "                   fc_params, nInteract = 3, nBaseline = 7+1, pc_params = [.2, .8],\n",
    "                   f_baseline = f_baseline, f_interact = f_interact,\n",
    "                   gamma = 1., sigma2 = 1. , T = 90, t = 5, no_resid_flag = False):\n",
    "    '''\n",
    "    coef0: Reward coefficients for baseline (PHI), first element is bias term\n",
    "    coef1: Reward coefficients for interaction (THETA); note that concatenated, [THETA, PHI] = Eta\n",
    "    S_sim: simulated states\n",
    "    I_sim: simulated availabilities; 1 = available, 0 = unavailable\n",
    "    resids_sim: Residuals of simulated users\n",
    "    reward_func: reward function, must have type reward(featVec, action, coef0, coef1, resid)\n",
    "    nInteract: Number of interaction features\n",
    "    nBaseline: Number of baseline features\n",
    "    params: Bandit parameters; [minprob, maxprob, priorweight]\n",
    "    T: days of study\n",
    "    t: decision points per day\n",
    "    no_resid_flag: If True will substitute 0 for residuals, if False will use true residuals\n",
    "    '''\n",
    "    N = S_sim.shape[0]\n",
    "    assert T == S_sim.shape[1]\n",
    "    assert t == S_sim.shape[2]\n",
    "    assert nBaseline == S_sim.shape[3]\n",
    "    \n",
    "    #creating variables for saving history of what we do\n",
    "    regret = np.empty((N, T, t))\n",
    "    probs  = np.empty((N, T, t))\n",
    "    action = np.empty((N, T, t))\n",
    "    regret.fill(np.nan)\n",
    "    probs.fill(np.nan)\n",
    "    action.fill(np.nan)\n",
    "    \n",
    "    # Containers for bandit parameters\n",
    "    bandit_covs = np.empty((N, T,t, nInteract+nBaseline, nInteract+nBaseline))\n",
    "    bandit_covs.fill(np.nan)\n",
    "    bandit_means = np.empty((N, T,t, nInteract+nBaseline))\n",
    "    bandit_means.fill(np.nan)\n",
    "\n",
    "    for sim_user_index in range(N):\n",
    "\n",
    "        #Create a bandit object for each user\n",
    "        bandit = ContextBandit(nInteract, pc_params, prior_model, gamma, fc_params, f_baseline, f_interact, sigma2) #Create and initialize bandit\n",
    "\n",
    "        #Cycle thru days\n",
    "        for day in range(T):\n",
    "\n",
    "            rwd = np.zeros(t)\n",
    "            featVec = np.zeros((nBaseline,t))\n",
    "            #Cycle thru decision points in each day\n",
    "            for dpt in range(t):\n",
    "                #Generate random state vector \n",
    "                featVec[:,dpt] = S_sim[sim_user_index, day, dpt]\n",
    "                user_resid = resids_sim[sim_user_index, day, dpt]\n",
    "                if no_resid_flag:\n",
    "                    user_resid = 0\n",
    "                    \n",
    "                #Get action probability from bandit\n",
    "                \n",
    "                # probs[] is the probability of taking action 1 at current decision point, i.e. \\pi_t(1|s_t) in the doc (Quality metrics 1&2).\n",
    "                # featInteract = S_sim[sim_user_index, day, dpt, 1:1+nInteract] #only use the interaction features, but first element is bias\n",
    "                if False: #Do nothing\n",
    "                    probs[sim_user_index, day, dpt] = 0\n",
    "                else: #Use bandit\n",
    "                    # Count dosage from previous N_c days\n",
    "                    N_t = np.sum(action[sim_user_index].reshape(-1)[max(0,day*t + dpt - bandit.N_c):day*t + dpt])\n",
    "                    # Compute clipped probability\n",
    "                    probs[sim_user_index, day, dpt] = bandit.process_context(\n",
    "                    I_sim[sim_user_index, day, dpt], S_sim[sim_user_index, day, dpt], N_t)\n",
    "\n",
    "\n",
    "                #Choose action based on probability, i.e. do the randomization\n",
    "                if np.random.rand() < probs[sim_user_index, day, dpt]:\n",
    "                    action[sim_user_index, day, dpt] = 1\n",
    "                else:\n",
    "                    action[sim_user_index, day, dpt] = 0\n",
    "\n",
    "                #Receive reward from the universe. \n",
    "                rwd[dpt] = reward(S_sim[sim_user_index, day, dpt], action[sim_user_index, day, dpt], coef0, coef1, user_resid)\n",
    "                rwd[dpt] = reward(S_sim[sim_user_index, day, dpt], action[sim_user_index, day, dpt], coef0, coef1, user_resid)\n",
    "\n",
    "\n",
    "                #What was expected regret given probability chosen by bandit?\n",
    "                #(easy to do since we know the \\theta coefficients, reward under action 1 is reward under action 0 plus \\theta^T s_t, and vice versa)\n",
    "                rwd0 = reward(S_sim[sim_user_index, day, dpt], 0, coef0, coef1, user_resid) # do we want to include user_resid here or use default 0?\n",
    "                rwd1 = reward(S_sim[sim_user_index, day, dpt], 1, coef0, coef1, user_resid)\n",
    "\n",
    "                #Expected reward under bandit policy\n",
    "                rwdExp = probs[sim_user_index, day, dpt]*rwd1 + (1-probs[sim_user_index, day, dpt])*rwd0\n",
    "\n",
    "                #Regret is difference between optimal reward and the reward we got\n",
    "                #\"Optimal\" reward is restricted based on the min/max allowed probabilities\n",
    "                #ISAAC: THIS IS THE REGRET AT THE CURRENT DECISION POINT. Cumulative regret is formed by summing this up from time 0 to the current time.\n",
    "                regret[sim_user_index,  day, dpt] = max(pc_params[0]*rwd0 + pc_params[1]*rwd1, pc_params[0]*rwd1 + pc_params[1]*rwd0) - rwdExp\n",
    "\n",
    "\n",
    "            #Perform bandit updates at end of day\n",
    "            for dpt in range(t):\n",
    "                bandit_covs[sim_user_index, day, dpt] = bandit.daystart_model.Sigma\n",
    "#                 print(bandit_means[sim_user_index, day, dpt].shape, bandit.daystart_model.mu.flatten().shape)\n",
    "                bandit_means[sim_user_index, day, dpt] = bandit.daystart_model.mu.flatten()\n",
    "                bandit.update_model(S_sim[sim_user_index, day], rwd, action[sim_user_index, day], probs[sim_user_index, day], I_sim[sim_user_index, day])\n",
    "                #bandit.update_model(np.concatenate([[1],featVec[1:nInteract+1,dpt],featVec[1+nInteract:,]]),rwd[dpt],np.zeros(nInteract),action[sim_user_index, day, dpt],probs[sim_user_index, day, dpt])\n",
    "\n",
    "\n",
    "    return regret.reshape((N,T*t)), probs.reshape((N,T*t)), action.reshape((N,T*t)), bandit_covs.reshape((N,T*t, nInteract+nBaseline,nInteract+nBaseline)), bandit_means.reshape((N,T*t, nInteract+nBaseline)), bandit\n"
   ]
  },
  {
   "cell_type": "code",
   "execution_count": 24,
   "metadata": {
    "ExecuteTime": {
     "end_time": "2018-02-05T03:28:58.645078Z",
     "start_time": "2018-02-05T03:28:14.139756Z"
    }
   },
   "outputs": [
    {
     "name": "stdout",
     "output_type": "stream",
     "text": [
      "0.01\n",
      "0.1\n",
      "0.2\n",
      "0.3\n",
      "0.5\n",
      "0.6\n",
      "0.7\n",
      "0.8\n",
      "0.9\n",
      "0.95\n",
      "0.99\n",
      "1.0\n"
     ]
    }
   ],
   "source": [
    "# TEST GAMMA\n",
    "prior_mdl = model(np.zeros((nInteract+nBaseline,1)),np.eye(nInteract+nBaseline))\n",
    "fc_params = [1., 5, 10]\n",
    "\n",
    "regrets = []\n",
    "probs = []\n",
    "actions = []\n",
    "bandit_covs = []\n",
    "bandi_means = []\n",
    "gammas = [0.01,0.1,0.2,0.3,0.5,0.6,0.7,0.8,0.9,0.95,0.99,1.]\n",
    "for gamma in :\n",
    "    print(gamma)\n",
    "    regret, prob, action, bandit_cov, bandit_mean, bandit = run_simulation(coef0 = Etas_fit[3:11], coef1 = Etas_fit[0:3], S_sim = S_new, I_sim = I_new, resids_sim = resids_new, reward_func = reward, fc_params = fc_params, prior_model = prior_mdl, gamma = gamma)\n",
    "    regrets.append(regret)\n",
    "    probs.append(prob)\n",
    "    actions.append(action)\n",
    "    bandit_covs.append(bandit_cov)\n",
    "    bandit_means.append(bandit_mean)"
   ]
  },
  {
   "cell_type": "code",
   "execution_count": 32,
   "metadata": {
    "ExecuteTime": {
     "end_time": "2018-02-05T16:24:08.173791Z",
     "start_time": "2018-02-05T16:24:08.167748Z"
    }
   },
   "outputs": [
    {
     "data": {
      "text/plain": [
       "900"
      ]
     },
     "execution_count": 32,
     "metadata": {},
     "output_type": "execute_result"
    }
   ],
   "source": [
    "len(regrets)"
   ]
  },
  {
   "cell_type": "code",
   "execution_count": 39,
   "metadata": {
    "ExecuteTime": {
     "end_time": "2018-02-05T16:30:16.973807Z",
     "start_time": "2018-02-05T16:27:32.788744Z"
    }
   },
   "outputs": [],
   "source": [
    "for i in range(len(regrets)):\n",
    "    np.save('results/regrets' + str(i) +'.npy',regrets[i])\n",
    "    np.save('results/probs' + str(i) +'.npy',probs[i])\n",
    "    np.save('results/actions' + str(i) +'.npy',actions[i])\n",
    "    np.save('results/bandit_covs' + str(i) +'.npy',bandit_covs[i])\n",
    "    np.save('results/bandit_means' + str(i) +'.npy',bandit_means[i])\n",
    "    "
   ]
  },
  {
   "cell_type": "code",
   "execution_count": 38,
   "metadata": {
    "ExecuteTime": {
     "end_time": "2018-02-05T16:26:17.661626Z",
     "start_time": "2018-02-05T16:26:17.656613Z"
    }
   },
   "outputs": [
    {
     "data": {
      "text/plain": [
       "(20, 450)"
      ]
     },
     "execution_count": 38,
     "metadata": {},
     "output_type": "execute_result"
    }
   ],
   "source": [
    "regret_results = []\n",
    "prob_results = []\n",
    "action_results = []\n",
    "bandit_cov_results = []\n",
    "bandit_mean_results = []\n",
    "\n",
    "\n",
    "for i in range(900):\n",
    "    regret_results.append(np.load(\"results/regrets\" + str(i) + '.npy'))\n",
    "    prob_results.append(np.load(\"results/probs\" + str(i) + '.npy'))\n",
    "    action_results.append(np.load(\"results/actions\" + str(i) + '.npy'))\n",
    "    bandit_cov_results.append(np.load(\"results/bandit_covs\" + str(i) + '.npy'))\n",
    "    bandit_mean_results.append(np.load(\"results/bandit_means\" + str(i) + '.npy'))"
   ]
  },
  {
   "cell_type": "code",
   "execution_count": 29,
   "metadata": {
    "ExecuteTime": {
     "end_time": "2018-02-05T06:14:20.090334Z",
     "start_time": "2018-02-05T06:14:20.086324Z"
    },
    "collapsed": true
   },
   "outputs": [],
   "source": [
    "import _pickle"
   ]
  },
  {
   "cell_type": "code",
   "execution_count": 28,
   "metadata": {
    "ExecuteTime": {
     "end_time": "2018-02-05T06:13:41.814196Z",
     "start_time": "2018-02-05T06:13:32.734986Z"
    }
   },
   "outputs": [
    {
     "name": "stdout",
     "output_type": "stream",
     "text": [
      "Collecting cPickle\n"
     ]
    },
    {
     "name": "stderr",
     "output_type": "stream",
     "text": [
      "  Could not find a version that satisfies the requirement cPickle (from versions: )\n",
      "No matching distribution found for cPickle\n"
     ]
    }
   ],
   "source": [
    "!pip install cPickle"
   ]
  },
  {
   "cell_type": "code",
   "execution_count": null,
   "metadata": {
    "ExecuteTime": {
     "end_time": "2018-02-05T06:12:42.284188Z",
     "start_time": "2018-02-05T06:11:59.259Z"
    },
    "collapsed": true
   },
   "outputs": [],
   "source": [
    "print('hi')"
   ]
  },
  {
   "cell_type": "code",
   "execution_count": 43,
   "metadata": {
    "ExecuteTime": {
     "end_time": "2018-02-05T04:14:20.449382Z",
     "start_time": "2018-02-05T04:14:19.503312Z"
    }
   },
   "outputs": [
    {
     "data": {
      "image/png": "[encoded data removed]",
      "text/plain": [
       "<matplotlib.figure.Figure at 0x210742f59e8>"
      ]
     },
     "metadata": {},
     "output_type": "display_data"
    }
   ],
   "source": [
    "fig,axes = plt.subplots(3,4,figsize = (12,10))\n",
    "for prob,ax,gamma in zip(probs,axes.flat,gammas):\n",
    "#     fig,ax = plt.subplots()\n",
    "    pd.Series(prob.flatten()).hist(ax = ax)\n",
    "    ax.set_title(\"Gamma: \"+ str(gamma))"
   ]
  },
  {
   "cell_type": "code",
   "execution_count": 11,
   "metadata": {
    "ExecuteTime": {
     "end_time": "2018-02-05T05:28:34.199316Z",
     "start_time": "2018-02-05T04:37:45.793236Z"
    }
   },
   "outputs": [
    {
     "name": "stdout",
     "output_type": "stream",
     "text": [
      "0.1 0.1 0.1 5\n",
      "0.1 0.1 0.1 10\n",
      "0.1 0.1 0.1 20\n",
      "0.1 0.1 0.1 35\n",
      "0.1 0.1 0.1 50\n",
      "0.1 0.1 0.1 70\n",
      "0.1 0.1 0.25 5\n",
      "0.1 0.1 0.25 10\n",
      "0.1 0.1 0.25 20\n",
      "0.1 0.1 0.25 35\n",
      "0.1 0.1 0.25 50\n",
      "0.1 0.1 0.25 70\n",
      "0.1 0.1 0.5 5\n",
      "0.1 0.1 0.5 10\n",
      "0.1 0.1 0.5 20\n",
      "0.1 0.1 0.5 35\n",
      "0.1 0.1 0.5 50\n",
      "0.1 0.1 0.5 70\n",
      "0.1 0.1 0.75 5\n",
      "0.1 0.1 0.75 10\n",
      "0.1 0.1 0.75 20\n",
      "0.1 0.1 0.75 35\n",
      "0.1 0.1 0.75 50\n",
      "0.1 0.1 0.75 70\n",
      "0.1 0.1 0.9 5\n",
      "0.1 0.1 0.9 10\n",
      "0.1 0.1 0.9 20\n",
      "0.1 0.1 0.9 35\n",
      "0.1 0.1 0.9 50\n",
      "0.1 0.1 0.9 70\n",
      "0.1 0.25 0.1 5\n",
      "0.1 0.25 0.1 10\n",
      "0.1 0.25 0.1 20\n",
      "0.1 0.25 0.1 35\n",
      "0.1 0.25 0.1 50\n",
      "0.1 0.25 0.1 70\n",
      "0.1 0.25 0.25 5\n",
      "0.1 0.25 0.25 10\n",
      "0.1 0.25 0.25 20\n",
      "0.1 0.25 0.25 35\n",
      "0.1 0.25 0.25 50\n",
      "0.1 0.25 0.25 70\n",
      "0.1 0.25 0.5 5\n",
      "0.1 0.25 0.5 10\n",
      "0.1 0.25 0.5 20\n",
      "0.1 0.25 0.5 35\n",
      "0.1 0.25 0.5 50\n",
      "0.1 0.25 0.5 70\n",
      "0.1 0.25 0.75 5\n",
      "0.1 0.25 0.75 10\n",
      "0.1 0.25 0.75 20\n",
      "0.1 0.25 0.75 35\n",
      "0.1 0.25 0.75 50\n",
      "0.1 0.25 0.75 70\n",
      "0.1 0.25 0.9 5\n",
      "0.1 0.25 0.9 10\n",
      "0.1 0.25 0.9 20\n",
      "0.1 0.25 0.9 35\n",
      "0.1 0.25 0.9 50\n",
      "0.1 0.25 0.9 70\n",
      "0.1 0.5 0.1 5\n",
      "0.1 0.5 0.1 10\n",
      "0.1 0.5 0.1 20\n",
      "0.1 0.5 0.1 35\n",
      "0.1 0.5 0.1 50\n",
      "0.1 0.5 0.1 70\n",
      "0.1 0.5 0.25 5\n",
      "0.1 0.5 0.25 10\n",
      "0.1 0.5 0.25 20\n",
      "0.1 0.5 0.25 35\n",
      "0.1 0.5 0.25 50\n",
      "0.1 0.5 0.25 70\n",
      "0.1 0.5 0.5 5\n",
      "0.1 0.5 0.5 10\n",
      "0.1 0.5 0.5 20\n",
      "0.1 0.5 0.5 35\n",
      "0.1 0.5 0.5 50\n",
      "0.1 0.5 0.5 70\n",
      "0.1 0.5 0.75 5\n",
      "0.1 0.5 0.75 10\n",
      "0.1 0.5 0.75 20\n",
      "0.1 0.5 0.75 35\n",
      "0.1 0.5 0.75 50\n",
      "0.1 0.5 0.75 70\n",
      "0.1 0.5 0.9 5\n",
      "0.1 0.5 0.9 10\n",
      "0.1 0.5 0.9 20\n",
      "0.1 0.5 0.9 35\n",
      "0.1 0.5 0.9 50\n",
      "0.1 0.5 0.9 70\n",
      "0.1 0.75 0.1 5\n",
      "0.1 0.75 0.1 10\n",
      "0.1 0.75 0.1 20\n",
      "0.1 0.75 0.1 35\n",
      "0.1 0.75 0.1 50\n",
      "0.1 0.75 0.1 70\n",
      "0.1 0.75 0.25 5\n",
      "0.1 0.75 0.25 10\n",
      "0.1 0.75 0.25 20\n",
      "0.1 0.75 0.25 35\n",
      "0.1 0.75 0.25 50\n",
      "0.1 0.75 0.25 70\n",
      "0.1 0.75 0.5 5\n",
      "0.1 0.75 0.5 10\n",
      "0.1 0.75 0.5 20\n",
      "0.1 0.75 0.5 35\n",
      "0.1 0.75 0.5 50\n",
      "0.1 0.75 0.5 70\n",
      "0.1 0.75 0.75 5\n",
      "0.1 0.75 0.75 10\n",
      "0.1 0.75 0.75 20\n",
      "0.1 0.75 0.75 35\n",
      "0.1 0.75 0.75 50\n",
      "0.1 0.75 0.75 70\n",
      "0.1 0.75 0.9 5\n",
      "0.1 0.75 0.9 10\n",
      "0.1 0.75 0.9 20\n",
      "0.1 0.75 0.9 35\n",
      "0.1 0.75 0.9 50\n",
      "0.1 0.75 0.9 70\n",
      "0.1 1.0 0.1 5\n",
      "0.1 1.0 0.1 10\n",
      "0.1 1.0 0.1 20\n",
      "0.1 1.0 0.1 35\n",
      "0.1 1.0 0.1 50\n",
      "0.1 1.0 0.1 70\n",
      "0.1 1.0 0.25 5\n",
      "0.1 1.0 0.25 10\n",
      "0.1 1.0 0.25 20\n",
      "0.1 1.0 0.25 35\n",
      "0.1 1.0 0.25 50\n",
      "0.1 1.0 0.25 70\n",
      "0.1 1.0 0.5 5\n",
      "0.1 1.0 0.5 10\n",
      "0.1 1.0 0.5 20\n",
      "0.1 1.0 0.5 35\n",
      "0.1 1.0 0.5 50\n",
      "0.1 1.0 0.5 70\n",
      "0.1 1.0 0.75 5\n",
      "0.1 1.0 0.75 10\n",
      "0.1 1.0 0.75 20\n",
      "0.1 1.0 0.75 35\n",
      "0.1 1.0 0.75 50\n",
      "0.1 1.0 0.75 70\n",
      "0.1 1.0 0.9 5\n",
      "0.1 1.0 0.9 10\n",
      "0.1 1.0 0.9 20\n",
      "0.1 1.0 0.9 35\n",
      "0.1 1.0 0.9 50\n",
      "0.1 1.0 0.9 70\n",
      "0.1 10.0 0.1 5\n",
      "0.1 10.0 0.1 10\n",
      "0.1 10.0 0.1 20\n",
      "0.1 10.0 0.1 35\n",
      "0.1 10.0 0.1 50\n",
      "0.1 10.0 0.1 70\n",
      "0.1 10.0 0.25 5\n",
      "0.1 10.0 0.25 10\n",
      "0.1 10.0 0.25 20\n",
      "0.1 10.0 0.25 35\n",
      "0.1 10.0 0.25 50\n",
      "0.1 10.0 0.25 70\n",
      "0.1 10.0 0.5 5\n",
      "0.1 10.0 0.5 10\n",
      "0.1 10.0 0.5 20\n",
      "0.1 10.0 0.5 35\n",
      "0.1 10.0 0.5 50\n",
      "0.1 10.0 0.5 70\n",
      "0.1 10.0 0.75 5\n",
      "0.1 10.0 0.75 10\n",
      "0.1 10.0 0.75 20\n",
      "0.1 10.0 0.75 35\n",
      "0.1 10.0 0.75 50\n",
      "0.1 10.0 0.75 70\n",
      "0.1 10.0 0.9 5\n",
      "0.1 10.0 0.9 10\n",
      "0.1 10.0 0.9 20\n",
      "0.1 10.0 0.9 35\n",
      "0.1 10.0 0.9 50\n",
      "0.1 10.0 0.9 70\n",
      "0.5 0.1 0.1 5\n",
      "0.5 0.1 0.1 10\n",
      "0.5 0.1 0.1 20\n",
      "0.5 0.1 0.1 35\n",
      "0.5 0.1 0.1 50\n",
      "0.5 0.1 0.1 70\n",
      "0.5 0.1 0.25 5\n",
      "0.5 0.1 0.25 10\n",
      "0.5 0.1 0.25 20\n",
      "0.5 0.1 0.25 35\n",
      "0.5 0.1 0.25 50\n",
      "0.5 0.1 0.25 70\n",
      "0.5 0.1 0.5 5\n",
      "0.5 0.1 0.5 10\n",
      "0.5 0.1 0.5 20\n",
      "0.5 0.1 0.5 35\n",
      "0.5 0.1 0.5 50\n",
      "0.5 0.1 0.5 70\n",
      "0.5 0.1 0.75 5\n",
      "0.5 0.1 0.75 10\n",
      "0.5 0.1 0.75 20\n",
      "0.5 0.1 0.75 35\n",
      "0.5 0.1 0.75 50\n",
      "0.5 0.1 0.75 70\n",
      "0.5 0.1 0.9 5\n",
      "0.5 0.1 0.9 10\n",
      "0.5 0.1 0.9 20\n",
      "0.5 0.1 0.9 35\n",
      "0.5 0.1 0.9 50\n",
      "0.5 0.1 0.9 70\n",
      "0.5 0.25 0.1 5\n",
      "0.5 0.25 0.1 10\n",
      "0.5 0.25 0.1 20\n",
      "0.5 0.25 0.1 35\n",
      "0.5 0.25 0.1 50\n",
      "0.5 0.25 0.1 70\n",
      "0.5 0.25 0.25 5\n",
      "0.5 0.25 0.25 10\n",
      "0.5 0.25 0.25 20\n",
      "0.5 0.25 0.25 35\n",
      "0.5 0.25 0.25 50\n",
      "0.5 0.25 0.25 70\n",
      "0.5 0.25 0.5 5\n",
      "0.5 0.25 0.5 10\n",
      "0.5 0.25 0.5 20\n",
      "0.5 0.25 0.5 35\n",
      "0.5 0.25 0.5 50\n",
      "0.5 0.25 0.5 70\n",
      "0.5 0.25 0.75 5\n",
      "0.5 0.25 0.75 10\n",
      "0.5 0.25 0.75 20\n",
      "0.5 0.25 0.75 35\n",
      "0.5 0.25 0.75 50\n",
      "0.5 0.25 0.75 70\n",
      "0.5 0.25 0.9 5\n",
      "0.5 0.25 0.9 10\n",
      "0.5 0.25 0.9 20\n",
      "0.5 0.25 0.9 35\n",
      "0.5 0.25 0.9 50\n",
      "0.5 0.25 0.9 70\n",
      "0.5 0.5 0.1 5\n",
      "0.5 0.5 0.1 10\n",
      "0.5 0.5 0.1 20\n",
      "0.5 0.5 0.1 35\n",
      "0.5 0.5 0.1 50\n",
      "0.5 0.5 0.1 70\n",
      "0.5 0.5 0.25 5\n",
      "0.5 0.5 0.25 10\n",
      "0.5 0.5 0.25 20\n",
      "0.5 0.5 0.25 35\n",
      "0.5 0.5 0.25 50\n",
      "0.5 0.5 0.25 70\n",
      "0.5 0.5 0.5 5\n",
      "0.5 0.5 0.5 10\n",
      "0.5 0.5 0.5 20\n",
      "0.5 0.5 0.5 35\n",
      "0.5 0.5 0.5 50\n",
      "0.5 0.5 0.5 70\n",
      "0.5 0.5 0.75 5\n",
      "0.5 0.5 0.75 10\n",
      "0.5 0.5 0.75 20\n",
      "0.5 0.5 0.75 35\n",
      "0.5 0.5 0.75 50\n",
      "0.5 0.5 0.75 70\n",
      "0.5 0.5 0.9 5\n",
      "0.5 0.5 0.9 10\n",
      "0.5 0.5 0.9 20\n",
      "0.5 0.5 0.9 35\n",
      "0.5 0.5 0.9 50\n",
      "0.5 0.5 0.9 70\n",
      "0.5 0.75 0.1 5\n",
      "0.5 0.75 0.1 10\n",
      "0.5 0.75 0.1 20\n",
      "0.5 0.75 0.1 35\n",
      "0.5 0.75 0.1 50\n",
      "0.5 0.75 0.1 70\n",
      "0.5 0.75 0.25 5\n",
      "0.5 0.75 0.25 10\n",
      "0.5 0.75 0.25 20\n",
      "0.5 0.75 0.25 35\n",
      "0.5 0.75 0.25 50\n",
      "0.5 0.75 0.25 70\n",
      "0.5 0.75 0.5 5\n",
      "0.5 0.75 0.5 10\n",
      "0.5 0.75 0.5 20\n",
      "0.5 0.75 0.5 35\n",
      "0.5 0.75 0.5 50\n",
      "0.5 0.75 0.5 70\n",
      "0.5 0.75 0.75 5\n",
      "0.5 0.75 0.75 10\n",
      "0.5 0.75 0.75 20\n",
      "0.5 0.75 0.75 35\n",
      "0.5 0.75 0.75 50\n",
      "0.5 0.75 0.75 70\n",
      "0.5 0.75 0.9 5\n",
      "0.5 0.75 0.9 10\n",
      "0.5 0.75 0.9 20\n",
      "0.5 0.75 0.9 35\n",
      "0.5 0.75 0.9 50\n",
      "0.5 0.75 0.9 70\n",
      "0.5 1.0 0.1 5\n",
      "0.5 1.0 0.1 10\n",
      "0.5 1.0 0.1 20\n",
      "0.5 1.0 0.1 35\n",
      "0.5 1.0 0.1 50\n",
      "0.5 1.0 0.1 70\n",
      "0.5 1.0 0.25 5\n",
      "0.5 1.0 0.25 10\n",
      "0.5 1.0 0.25 20\n",
      "0.5 1.0 0.25 35\n",
      "0.5 1.0 0.25 50\n",
      "0.5 1.0 0.25 70\n",
      "0.5 1.0 0.5 5\n",
      "0.5 1.0 0.5 10\n",
      "0.5 1.0 0.5 20\n",
      "0.5 1.0 0.5 35\n",
      "0.5 1.0 0.5 50\n",
      "0.5 1.0 0.5 70\n",
      "0.5 1.0 0.75 5\n",
      "0.5 1.0 0.75 10\n",
      "0.5 1.0 0.75 20\n",
      "0.5 1.0 0.75 35\n",
      "0.5 1.0 0.75 50\n",
      "0.5 1.0 0.75 70\n",
      "0.5 1.0 0.9 5\n",
      "0.5 1.0 0.9 10\n",
      "0.5 1.0 0.9 20\n",
      "0.5 1.0 0.9 35\n",
      "0.5 1.0 0.9 50\n",
      "0.5 1.0 0.9 70\n",
      "0.5 10.0 0.1 5\n",
      "0.5 10.0 0.1 10\n",
      "0.5 10.0 0.1 20\n",
      "0.5 10.0 0.1 35\n",
      "0.5 10.0 0.1 50\n",
      "0.5 10.0 0.1 70\n",
      "0.5 10.0 0.25 5\n",
      "0.5 10.0 0.25 10\n",
      "0.5 10.0 0.25 20\n",
      "0.5 10.0 0.25 35\n",
      "0.5 10.0 0.25 50\n",
      "0.5 10.0 0.25 70\n",
      "0.5 10.0 0.5 5\n",
      "0.5 10.0 0.5 10\n",
      "0.5 10.0 0.5 20\n",
      "0.5 10.0 0.5 35\n",
      "0.5 10.0 0.5 50\n",
      "0.5 10.0 0.5 70\n",
      "0.5 10.0 0.75 5\n",
      "0.5 10.0 0.75 10\n",
      "0.5 10.0 0.75 20\n",
      "0.5 10.0 0.75 35\n",
      "0.5 10.0 0.75 50\n",
      "0.5 10.0 0.75 70\n",
      "0.5 10.0 0.9 5\n",
      "0.5 10.0 0.9 10\n",
      "0.5 10.0 0.9 20\n",
      "0.5 10.0 0.9 35\n",
      "0.5 10.0 0.9 50\n",
      "0.5 10.0 0.9 70\n",
      "0.7 0.1 0.1 5\n",
      "0.7 0.1 0.1 10\n",
      "0.7 0.1 0.1 20\n",
      "0.7 0.1 0.1 35\n",
      "0.7 0.1 0.1 50\n",
      "0.7 0.1 0.1 70\n",
      "0.7 0.1 0.25 5\n",
      "0.7 0.1 0.25 10\n",
      "0.7 0.1 0.25 20\n",
      "0.7 0.1 0.25 35\n",
      "0.7 0.1 0.25 50\n",
      "0.7 0.1 0.25 70\n",
      "0.7 0.1 0.5 5\n",
      "0.7 0.1 0.5 10\n",
      "0.7 0.1 0.5 20\n",
      "0.7 0.1 0.5 35\n",
      "0.7 0.1 0.5 50\n",
      "0.7 0.1 0.5 70\n",
      "0.7 0.1 0.75 5\n",
      "0.7 0.1 0.75 10\n",
      "0.7 0.1 0.75 20\n",
      "0.7 0.1 0.75 35\n",
      "0.7 0.1 0.75 50\n",
      "0.7 0.1 0.75 70\n",
      "0.7 0.1 0.9 5\n",
      "0.7 0.1 0.9 10\n",
      "0.7 0.1 0.9 20\n",
      "0.7 0.1 0.9 35\n",
      "0.7 0.1 0.9 50\n",
      "0.7 0.1 0.9 70\n",
      "0.7 0.25 0.1 5\n",
      "0.7 0.25 0.1 10\n",
      "0.7 0.25 0.1 20\n",
      "0.7 0.25 0.1 35\n",
      "0.7 0.25 0.1 50\n",
      "0.7 0.25 0.1 70\n",
      "0.7 0.25 0.25 5\n",
      "0.7 0.25 0.25 10\n",
      "0.7 0.25 0.25 20\n",
      "0.7 0.25 0.25 35\n",
      "0.7 0.25 0.25 50\n",
      "0.7 0.25 0.25 70\n",
      "0.7 0.25 0.5 5\n",
      "0.7 0.25 0.5 10\n",
      "0.7 0.25 0.5 20\n",
      "0.7 0.25 0.5 35\n",
      "0.7 0.25 0.5 50\n",
      "0.7 0.25 0.5 70\n",
      "0.7 0.25 0.75 5\n",
      "0.7 0.25 0.75 10\n",
      "0.7 0.25 0.75 20\n",
      "0.7 0.25 0.75 35\n",
      "0.7 0.25 0.75 50\n",
      "0.7 0.25 0.75 70\n",
      "0.7 0.25 0.9 5\n",
      "0.7 0.25 0.9 10\n",
      "0.7 0.25 0.9 20\n",
      "0.7 0.25 0.9 35\n",
      "0.7 0.25 0.9 50\n",
      "0.7 0.25 0.9 70\n",
      "0.7 0.5 0.1 5\n",
      "0.7 0.5 0.1 10\n",
      "0.7 0.5 0.1 20\n",
      "0.7 0.5 0.1 35\n",
      "0.7 0.5 0.1 50\n",
      "0.7 0.5 0.1 70\n",
      "0.7 0.5 0.25 5\n",
      "0.7 0.5 0.25 10\n",
      "0.7 0.5 0.25 20\n",
      "0.7 0.5 0.25 35\n",
      "0.7 0.5 0.25 50\n",
      "0.7 0.5 0.25 70\n",
      "0.7 0.5 0.5 5\n",
      "0.7 0.5 0.5 10\n",
      "0.7 0.5 0.5 20\n",
      "0.7 0.5 0.5 35\n",
      "0.7 0.5 0.5 50\n",
      "0.7 0.5 0.5 70\n",
      "0.7 0.5 0.75 5\n",
      "0.7 0.5 0.75 10\n",
      "0.7 0.5 0.75 20\n",
      "0.7 0.5 0.75 35\n",
      "0.7 0.5 0.75 50\n",
      "0.7 0.5 0.75 70\n",
      "0.7 0.5 0.9 5\n",
      "0.7 0.5 0.9 10\n",
      "0.7 0.5 0.9 20\n",
      "0.7 0.5 0.9 35\n",
      "0.7 0.5 0.9 50\n",
      "0.7 0.5 0.9 70\n",
      "0.7 0.75 0.1 5\n",
      "0.7 0.75 0.1 10\n",
      "0.7 0.75 0.1 20\n",
      "0.7 0.75 0.1 35\n",
      "0.7 0.75 0.1 50\n",
      "0.7 0.75 0.1 70\n",
      "0.7 0.75 0.25 5\n",
      "0.7 0.75 0.25 10\n",
      "0.7 0.75 0.25 20\n",
      "0.7 0.75 0.25 35\n",
      "0.7 0.75 0.25 50\n",
      "0.7 0.75 0.25 70\n",
      "0.7 0.75 0.5 5\n",
      "0.7 0.75 0.5 10\n",
      "0.7 0.75 0.5 20\n",
      "0.7 0.75 0.5 35\n",
      "0.7 0.75 0.5 50\n",
      "0.7 0.75 0.5 70\n",
      "0.7 0.75 0.75 5\n",
      "0.7 0.75 0.75 10\n",
      "0.7 0.75 0.75 20\n",
      "0.7 0.75 0.75 35\n",
      "0.7 0.75 0.75 50\n",
      "0.7 0.75 0.75 70\n",
      "0.7 0.75 0.9 5\n",
      "0.7 0.75 0.9 10\n",
      "0.7 0.75 0.9 20\n",
      "0.7 0.75 0.9 35\n",
      "0.7 0.75 0.9 50\n",
      "0.7 0.75 0.9 70\n",
      "0.7 1.0 0.1 5\n",
      "0.7 1.0 0.1 10\n",
      "0.7 1.0 0.1 20\n",
      "0.7 1.0 0.1 35\n",
      "0.7 1.0 0.1 50\n",
      "0.7 1.0 0.1 70\n",
      "0.7 1.0 0.25 5\n",
      "0.7 1.0 0.25 10\n",
      "0.7 1.0 0.25 20\n",
      "0.7 1.0 0.25 35\n",
      "0.7 1.0 0.25 50\n",
      "0.7 1.0 0.25 70\n",
      "0.7 1.0 0.5 5\n",
      "0.7 1.0 0.5 10\n",
      "0.7 1.0 0.5 20\n",
      "0.7 1.0 0.5 35\n",
      "0.7 1.0 0.5 50\n",
      "0.7 1.0 0.5 70\n",
      "0.7 1.0 0.75 5\n",
      "0.7 1.0 0.75 10\n",
      "0.7 1.0 0.75 20\n",
      "0.7 1.0 0.75 35\n",
      "0.7 1.0 0.75 50\n",
      "0.7 1.0 0.75 70\n",
      "0.7 1.0 0.9 5\n",
      "0.7 1.0 0.9 10\n",
      "0.7 1.0 0.9 20\n",
      "0.7 1.0 0.9 35\n",
      "0.7 1.0 0.9 50\n",
      "0.7 1.0 0.9 70\n",
      "0.7 10.0 0.1 5\n",
      "0.7 10.0 0.1 10\n",
      "0.7 10.0 0.1 20\n",
      "0.7 10.0 0.1 35\n",
      "0.7 10.0 0.1 50\n",
      "0.7 10.0 0.1 70\n",
      "0.7 10.0 0.25 5\n",
      "0.7 10.0 0.25 10\n",
      "0.7 10.0 0.25 20\n",
      "0.7 10.0 0.25 35\n",
      "0.7 10.0 0.25 50\n",
      "0.7 10.0 0.25 70\n"
     ]
    },
    {
     "name": "stdout",
     "output_type": "stream",
     "text": [
      "0.7 10.0 0.5 5\n",
      "0.7 10.0 0.5 10\n",
      "0.7 10.0 0.5 20\n",
      "0.7 10.0 0.5 35\n",
      "0.7 10.0 0.5 50\n",
      "0.7 10.0 0.5 70\n",
      "0.7 10.0 0.75 5\n",
      "0.7 10.0 0.75 10\n",
      "0.7 10.0 0.75 20\n",
      "0.7 10.0 0.75 35\n",
      "0.7 10.0 0.75 50\n",
      "0.7 10.0 0.75 70\n",
      "0.7 10.0 0.9 5\n",
      "0.7 10.0 0.9 10\n",
      "0.7 10.0 0.9 20\n",
      "0.7 10.0 0.9 35\n",
      "0.7 10.0 0.9 50\n",
      "0.7 10.0 0.9 70\n",
      "0.8 0.1 0.1 5\n",
      "0.8 0.1 0.1 10\n",
      "0.8 0.1 0.1 20\n",
      "0.8 0.1 0.1 35\n",
      "0.8 0.1 0.1 50\n",
      "0.8 0.1 0.1 70\n",
      "0.8 0.1 0.25 5\n",
      "0.8 0.1 0.25 10\n",
      "0.8 0.1 0.25 20\n",
      "0.8 0.1 0.25 35\n",
      "0.8 0.1 0.25 50\n",
      "0.8 0.1 0.25 70\n",
      "0.8 0.1 0.5 5\n",
      "0.8 0.1 0.5 10\n",
      "0.8 0.1 0.5 20\n",
      "0.8 0.1 0.5 35\n",
      "0.8 0.1 0.5 50\n",
      "0.8 0.1 0.5 70\n",
      "0.8 0.1 0.75 5\n",
      "0.8 0.1 0.75 10\n",
      "0.8 0.1 0.75 20\n",
      "0.8 0.1 0.75 35\n",
      "0.8 0.1 0.75 50\n",
      "0.8 0.1 0.75 70\n",
      "0.8 0.1 0.9 5\n",
      "0.8 0.1 0.9 10\n",
      "0.8 0.1 0.9 20\n",
      "0.8 0.1 0.9 35\n",
      "0.8 0.1 0.9 50\n",
      "0.8 0.1 0.9 70\n",
      "0.8 0.25 0.1 5\n",
      "0.8 0.25 0.1 10\n",
      "0.8 0.25 0.1 20\n",
      "0.8 0.25 0.1 35\n",
      "0.8 0.25 0.1 50\n",
      "0.8 0.25 0.1 70\n",
      "0.8 0.25 0.25 5\n",
      "0.8 0.25 0.25 10\n",
      "0.8 0.25 0.25 20\n",
      "0.8 0.25 0.25 35\n",
      "0.8 0.25 0.25 50\n",
      "0.8 0.25 0.25 70\n",
      "0.8 0.25 0.5 5\n",
      "0.8 0.25 0.5 10\n",
      "0.8 0.25 0.5 20\n",
      "0.8 0.25 0.5 35\n",
      "0.8 0.25 0.5 50\n",
      "0.8 0.25 0.5 70\n",
      "0.8 0.25 0.75 5\n",
      "0.8 0.25 0.75 10\n",
      "0.8 0.25 0.75 20\n",
      "0.8 0.25 0.75 35\n",
      "0.8 0.25 0.75 50\n",
      "0.8 0.25 0.75 70\n",
      "0.8 0.25 0.9 5\n",
      "0.8 0.25 0.9 10\n",
      "0.8 0.25 0.9 20\n",
      "0.8 0.25 0.9 35\n",
      "0.8 0.25 0.9 50\n",
      "0.8 0.25 0.9 70\n",
      "0.8 0.5 0.1 5\n",
      "0.8 0.5 0.1 10\n",
      "0.8 0.5 0.1 20\n",
      "0.8 0.5 0.1 35\n",
      "0.8 0.5 0.1 50\n",
      "0.8 0.5 0.1 70\n",
      "0.8 0.5 0.25 5\n",
      "0.8 0.5 0.25 10\n",
      "0.8 0.5 0.25 20\n",
      "0.8 0.5 0.25 35\n",
      "0.8 0.5 0.25 50\n",
      "0.8 0.5 0.25 70\n",
      "0.8 0.5 0.5 5\n",
      "0.8 0.5 0.5 10\n",
      "0.8 0.5 0.5 20\n",
      "0.8 0.5 0.5 35\n",
      "0.8 0.5 0.5 50\n",
      "0.8 0.5 0.5 70\n",
      "0.8 0.5 0.75 5\n",
      "0.8 0.5 0.75 10\n",
      "0.8 0.5 0.75 20\n",
      "0.8 0.5 0.75 35\n",
      "0.8 0.5 0.75 50\n",
      "0.8 0.5 0.75 70\n",
      "0.8 0.5 0.9 5\n",
      "0.8 0.5 0.9 10\n",
      "0.8 0.5 0.9 20\n",
      "0.8 0.5 0.9 35\n",
      "0.8 0.5 0.9 50\n",
      "0.8 0.5 0.9 70\n",
      "0.8 0.75 0.1 5\n",
      "0.8 0.75 0.1 10\n",
      "0.8 0.75 0.1 20\n",
      "0.8 0.75 0.1 35\n",
      "0.8 0.75 0.1 50\n",
      "0.8 0.75 0.1 70\n",
      "0.8 0.75 0.25 5\n",
      "0.8 0.75 0.25 10\n",
      "0.8 0.75 0.25 20\n",
      "0.8 0.75 0.25 35\n",
      "0.8 0.75 0.25 50\n",
      "0.8 0.75 0.25 70\n",
      "0.8 0.75 0.5 5\n",
      "0.8 0.75 0.5 10\n",
      "0.8 0.75 0.5 20\n",
      "0.8 0.75 0.5 35\n",
      "0.8 0.75 0.5 50\n",
      "0.8 0.75 0.5 70\n",
      "0.8 0.75 0.75 5\n",
      "0.8 0.75 0.75 10\n",
      "0.8 0.75 0.75 20\n",
      "0.8 0.75 0.75 35\n",
      "0.8 0.75 0.75 50\n",
      "0.8 0.75 0.75 70\n",
      "0.8 0.75 0.9 5\n",
      "0.8 0.75 0.9 10\n",
      "0.8 0.75 0.9 20\n",
      "0.8 0.75 0.9 35\n",
      "0.8 0.75 0.9 50\n",
      "0.8 0.75 0.9 70\n",
      "0.8 1.0 0.1 5\n",
      "0.8 1.0 0.1 10\n",
      "0.8 1.0 0.1 20\n",
      "0.8 1.0 0.1 35\n",
      "0.8 1.0 0.1 50\n",
      "0.8 1.0 0.1 70\n",
      "0.8 1.0 0.25 5\n",
      "0.8 1.0 0.25 10\n",
      "0.8 1.0 0.25 20\n",
      "0.8 1.0 0.25 35\n",
      "0.8 1.0 0.25 50\n",
      "0.8 1.0 0.25 70\n",
      "0.8 1.0 0.5 5\n",
      "0.8 1.0 0.5 10\n",
      "0.8 1.0 0.5 20\n",
      "0.8 1.0 0.5 35\n",
      "0.8 1.0 0.5 50\n",
      "0.8 1.0 0.5 70\n",
      "0.8 1.0 0.75 5\n",
      "0.8 1.0 0.75 10\n",
      "0.8 1.0 0.75 20\n",
      "0.8 1.0 0.75 35\n",
      "0.8 1.0 0.75 50\n",
      "0.8 1.0 0.75 70\n",
      "0.8 1.0 0.9 5\n",
      "0.8 1.0 0.9 10\n",
      "0.8 1.0 0.9 20\n",
      "0.8 1.0 0.9 35\n",
      "0.8 1.0 0.9 50\n",
      "0.8 1.0 0.9 70\n",
      "0.8 10.0 0.1 5\n",
      "0.8 10.0 0.1 10\n",
      "0.8 10.0 0.1 20\n",
      "0.8 10.0 0.1 35\n",
      "0.8 10.0 0.1 50\n",
      "0.8 10.0 0.1 70\n",
      "0.8 10.0 0.25 5\n",
      "0.8 10.0 0.25 10\n",
      "0.8 10.0 0.25 20\n",
      "0.8 10.0 0.25 35\n",
      "0.8 10.0 0.25 50\n",
      "0.8 10.0 0.25 70\n",
      "0.8 10.0 0.5 5\n",
      "0.8 10.0 0.5 10\n",
      "0.8 10.0 0.5 20\n",
      "0.8 10.0 0.5 35\n",
      "0.8 10.0 0.5 50\n",
      "0.8 10.0 0.5 70\n",
      "0.8 10.0 0.75 5\n",
      "0.8 10.0 0.75 10\n",
      "0.8 10.0 0.75 20\n",
      "0.8 10.0 0.75 35\n",
      "0.8 10.0 0.75 50\n",
      "0.8 10.0 0.75 70\n",
      "0.8 10.0 0.9 5\n",
      "0.8 10.0 0.9 10\n",
      "0.8 10.0 0.9 20\n",
      "0.8 10.0 0.9 35\n",
      "0.8 10.0 0.9 50\n",
      "0.8 10.0 0.9 70\n",
      "0.9 0.1 0.1 5\n",
      "0.9 0.1 0.1 10\n",
      "0.9 0.1 0.1 20\n",
      "0.9 0.1 0.1 35\n",
      "0.9 0.1 0.1 50\n",
      "0.9 0.1 0.1 70\n",
      "0.9 0.1 0.25 5\n",
      "0.9 0.1 0.25 10\n",
      "0.9 0.1 0.25 20\n",
      "0.9 0.1 0.25 35\n",
      "0.9 0.1 0.25 50\n",
      "0.9 0.1 0.25 70\n",
      "0.9 0.1 0.5 5\n",
      "0.9 0.1 0.5 10\n",
      "0.9 0.1 0.5 20\n",
      "0.9 0.1 0.5 35\n",
      "0.9 0.1 0.5 50\n",
      "0.9 0.1 0.5 70\n",
      "0.9 0.1 0.75 5\n",
      "0.9 0.1 0.75 10\n",
      "0.9 0.1 0.75 20\n",
      "0.9 0.1 0.75 35\n",
      "0.9 0.1 0.75 50\n",
      "0.9 0.1 0.75 70\n",
      "0.9 0.1 0.9 5\n",
      "0.9 0.1 0.9 10\n",
      "0.9 0.1 0.9 20\n",
      "0.9 0.1 0.9 35\n",
      "0.9 0.1 0.9 50\n",
      "0.9 0.1 0.9 70\n",
      "0.9 0.25 0.1 5\n",
      "0.9 0.25 0.1 10\n",
      "0.9 0.25 0.1 20\n",
      "0.9 0.25 0.1 35\n",
      "0.9 0.25 0.1 50\n",
      "0.9 0.25 0.1 70\n",
      "0.9 0.25 0.25 5\n",
      "0.9 0.25 0.25 10\n",
      "0.9 0.25 0.25 20\n",
      "0.9 0.25 0.25 35\n",
      "0.9 0.25 0.25 50\n",
      "0.9 0.25 0.25 70\n",
      "0.9 0.25 0.5 5\n",
      "0.9 0.25 0.5 10\n",
      "0.9 0.25 0.5 20\n",
      "0.9 0.25 0.5 35\n",
      "0.9 0.25 0.5 50\n",
      "0.9 0.25 0.5 70\n",
      "0.9 0.25 0.75 5\n",
      "0.9 0.25 0.75 10\n",
      "0.9 0.25 0.75 20\n",
      "0.9 0.25 0.75 35\n",
      "0.9 0.25 0.75 50\n",
      "0.9 0.25 0.75 70\n",
      "0.9 0.25 0.9 5\n",
      "0.9 0.25 0.9 10\n",
      "0.9 0.25 0.9 20\n",
      "0.9 0.25 0.9 35\n",
      "0.9 0.25 0.9 50\n",
      "0.9 0.25 0.9 70\n",
      "0.9 0.5 0.1 5\n",
      "0.9 0.5 0.1 10\n",
      "0.9 0.5 0.1 20\n",
      "0.9 0.5 0.1 35\n",
      "0.9 0.5 0.1 50\n",
      "0.9 0.5 0.1 70\n",
      "0.9 0.5 0.25 5\n",
      "0.9 0.5 0.25 10\n",
      "0.9 0.5 0.25 20\n",
      "0.9 0.5 0.25 35\n",
      "0.9 0.5 0.25 50\n",
      "0.9 0.5 0.25 70\n",
      "0.9 0.5 0.5 5\n",
      "0.9 0.5 0.5 10\n",
      "0.9 0.5 0.5 20\n",
      "0.9 0.5 0.5 35\n",
      "0.9 0.5 0.5 50\n",
      "0.9 0.5 0.5 70\n",
      "0.9 0.5 0.75 5\n",
      "0.9 0.5 0.75 10\n",
      "0.9 0.5 0.75 20\n",
      "0.9 0.5 0.75 35\n",
      "0.9 0.5 0.75 50\n",
      "0.9 0.5 0.75 70\n",
      "0.9 0.5 0.9 5\n",
      "0.9 0.5 0.9 10\n",
      "0.9 0.5 0.9 20\n",
      "0.9 0.5 0.9 35\n",
      "0.9 0.5 0.9 50\n",
      "0.9 0.5 0.9 70\n",
      "0.9 0.75 0.1 5\n",
      "0.9 0.75 0.1 10\n",
      "0.9 0.75 0.1 20\n",
      "0.9 0.75 0.1 35\n",
      "0.9 0.75 0.1 50\n",
      "0.9 0.75 0.1 70\n",
      "0.9 0.75 0.25 5\n",
      "0.9 0.75 0.25 10\n",
      "0.9 0.75 0.25 20\n",
      "0.9 0.75 0.25 35\n",
      "0.9 0.75 0.25 50\n",
      "0.9 0.75 0.25 70\n",
      "0.9 0.75 0.5 5\n",
      "0.9 0.75 0.5 10\n",
      "0.9 0.75 0.5 20\n",
      "0.9 0.75 0.5 35\n",
      "0.9 0.75 0.5 50\n",
      "0.9 0.75 0.5 70\n",
      "0.9 0.75 0.75 5\n",
      "0.9 0.75 0.75 10\n",
      "0.9 0.75 0.75 20\n",
      "0.9 0.75 0.75 35\n",
      "0.9 0.75 0.75 50\n",
      "0.9 0.75 0.75 70\n",
      "0.9 0.75 0.9 5\n",
      "0.9 0.75 0.9 10\n",
      "0.9 0.75 0.9 20\n",
      "0.9 0.75 0.9 35\n",
      "0.9 0.75 0.9 50\n",
      "0.9 0.75 0.9 70\n",
      "0.9 1.0 0.1 5\n",
      "0.9 1.0 0.1 10\n",
      "0.9 1.0 0.1 20\n",
      "0.9 1.0 0.1 35\n",
      "0.9 1.0 0.1 50\n",
      "0.9 1.0 0.1 70\n",
      "0.9 1.0 0.25 5\n",
      "0.9 1.0 0.25 10\n",
      "0.9 1.0 0.25 20\n",
      "0.9 1.0 0.25 35\n",
      "0.9 1.0 0.25 50\n",
      "0.9 1.0 0.25 70\n",
      "0.9 1.0 0.5 5\n",
      "0.9 1.0 0.5 10\n",
      "0.9 1.0 0.5 20\n",
      "0.9 1.0 0.5 35\n",
      "0.9 1.0 0.5 50\n",
      "0.9 1.0 0.5 70\n",
      "0.9 1.0 0.75 5\n",
      "0.9 1.0 0.75 10\n",
      "0.9 1.0 0.75 20\n",
      "0.9 1.0 0.75 35\n",
      "0.9 1.0 0.75 50\n",
      "0.9 1.0 0.75 70\n",
      "0.9 1.0 0.9 5\n",
      "0.9 1.0 0.9 10\n",
      "0.9 1.0 0.9 20\n",
      "0.9 1.0 0.9 35\n",
      "0.9 1.0 0.9 50\n",
      "0.9 1.0 0.9 70\n",
      "0.9 10.0 0.1 5\n",
      "0.9 10.0 0.1 10\n",
      "0.9 10.0 0.1 20\n",
      "0.9 10.0 0.1 35\n",
      "0.9 10.0 0.1 50\n",
      "0.9 10.0 0.1 70\n",
      "0.9 10.0 0.25 5\n",
      "0.9 10.0 0.25 10\n",
      "0.9 10.0 0.25 20\n",
      "0.9 10.0 0.25 35\n",
      "0.9 10.0 0.25 50\n",
      "0.9 10.0 0.25 70\n",
      "0.9 10.0 0.5 5\n",
      "0.9 10.0 0.5 10\n",
      "0.9 10.0 0.5 20\n",
      "0.9 10.0 0.5 35\n",
      "0.9 10.0 0.5 50\n",
      "0.9 10.0 0.5 70\n",
      "0.9 10.0 0.75 5\n",
      "0.9 10.0 0.75 10\n",
      "0.9 10.0 0.75 20\n",
      "0.9 10.0 0.75 35\n",
      "0.9 10.0 0.75 50\n",
      "0.9 10.0 0.75 70\n",
      "0.9 10.0 0.9 5\n",
      "0.9 10.0 0.9 10\n",
      "0.9 10.0 0.9 20\n",
      "0.9 10.0 0.9 35\n",
      "0.9 10.0 0.9 50\n",
      "0.9 10.0 0.9 70\n"
     ]
    }
   ],
   "source": [
    "# TEST GAMMA\n",
    "prior_mdl = model(np.zeros((nInteract+nBaseline,1)),np.eye(nInteract+nBaseline))\n",
    "\n",
    "\n",
    "regrets = []\n",
    "probs = []\n",
    "actions = []\n",
    "bandit_covs = []\n",
    "bandit_means = []\n",
    "\n",
    "\n",
    "gammas = [0.1,0.5,0.7,0.8,0.9]\n",
    "lambdas = [0.1, 0.25, 0.5, 0.75, 1., 10.]\n",
    "N_c_mults = [0.1, 0.25, 0.5, 0.75, 0.9]\n",
    "T_cs = [5, 10, 20, 35, 50, 70]\n",
    "\n",
    "for gamma in gammas:\n",
    "    for lamb in lambdas:\n",
    "        for N_c_mult in N_c_mults:\n",
    "            for T_c in T_cs:\n",
    "                print(gamma, lamb, N_c_mult, T_c)\n",
    "                fc_params = [lamb, int(N_c_mult*T_c), T_c]\n",
    "                regret, prob, action, bandit_cov, bandit_mean, bandit = run_simulation(coef0 = Etas_fit[3:11], coef1 = Etas_fit[0:3], S_sim = S_new, I_sim = I_new, resids_sim = resids_new, reward_func = reward, fc_params = fc_params, prior_model = prior_mdl, gamma = gamma)\n",
    "                regrets.append(regret)\n",
    "                probs.append(prob)\n",
    "                actions.append(action)\n",
    "                bandit_covs.append(bandit_cov)\n",
    "                bandit_means.append(bandit_mean)"
   ]
  },
  {
   "cell_type": "code",
   "execution_count": 23,
   "metadata": {
    "ExecuteTime": {
     "end_time": "2018-02-05T06:10:01.594876Z",
     "start_time": "2018-02-05T06:10:01.590859Z"
    },
    "collapsed": true
   },
   "outputs": [],
   "source": [
    "results = [regrets, probs, actions, bandit_means, bandit_covs]"
   ]
  },
  {
   "cell_type": "code",
   "execution_count": 11,
   "metadata": {
    "ExecuteTime": {
     "end_time": "2018-02-05T02:09:39.360671Z",
     "start_time": "2018-02-05T02:09:39.351542Z"
    }
   },
   "outputs": [
    {
     "data": {
      "text/plain": [
       "array([ 3.10865709, -0.08888395,  0.10159862,  0.27720841,  1.22102856,\n",
       "        0.35033489,  0.11793383,  0.26297994, -0.25819153, -0.02495706,\n",
       "        0.15896695])"
      ]
     },
     "execution_count": 11,
     "metadata": {},
     "output_type": "execute_result"
    }
   ],
   "source": [
    "bandit_means[:,-1,:].mean(axis=0)"
   ]
  },
  {
   "cell_type": "code",
   "execution_count": 205,
   "metadata": {
    "ExecuteTime": {
     "end_time": "2018-02-05T01:26:54.510751Z",
     "start_time": "2018-02-05T01:26:54.502613Z"
    }
   },
   "outputs": [
    {
     "data": {
      "text/plain": [
       "array([[ 2.03507751],\n",
       "       [-0.23862681],\n",
       "       [ 0.93685995],\n",
       "       [ 0.11502493],\n",
       "       [ 1.15672226],\n",
       "       [ 1.43328968],\n",
       "       [ 0.50885485],\n",
       "       [-0.84432457],\n",
       "       [-0.30012531],\n",
       "       [-0.3068412 ],\n",
       "       [ 0.3963952 ]])"
      ]
     },
     "execution_count": 205,
     "metadata": {},
     "output_type": "execute_result"
    }
   ],
   "source": [
    "bandit.current_model.mu"
   ]
  },
  {
   "cell_type": "code",
   "execution_count": 12,
   "metadata": {
    "ExecuteTime": {
     "end_time": "2018-02-05T02:09:44.368591Z",
     "start_time": "2018-02-05T02:09:44.360887Z"
    }
   },
   "outputs": [
    {
     "data": {
      "text/plain": [
       "array([-0.21181203, -0.16692167,  0.08116949,  3.04487594, -0.02305797,\n",
       "        0.06443497,  0.18900795,  1.36208089,  0.30135504,  0.23107337,\n",
       "        0.38301622])"
      ]
     },
     "execution_count": 12,
     "metadata": {},
     "output_type": "execute_result"
    }
   ],
   "source": [
    "Etas_fit"
   ]
  },
  {
   "cell_type": "code",
   "execution_count": 13,
   "metadata": {
    "ExecuteTime": {
     "end_time": "2018-02-05T02:14:37.828415Z",
     "start_time": "2018-02-05T02:14:37.675223Z"
    }
   },
   "outputs": [
    {
     "data": {
      "text/plain": [
       "<matplotlib.axes._subplots.AxesSubplot at 0x21068c60898>"
      ]
     },
     "execution_count": 13,
     "metadata": {},
     "output_type": "execute_result"
    },
    {
     "data": {
      "image/png": "[encoded data removed]",
      "text/plain": [
       "<matplotlib.figure.Figure at 0x210694fb278>"
      ]
     },
     "metadata": {},
     "output_type": "display_data"
    }
   ],
   "source": [
    "i = 14\n",
    "pd.Series(bandit_covs[0][i*30].flatten()).hist()"
   ]
  },
  {
   "cell_type": "code",
   "execution_count": 16,
   "metadata": {
    "ExecuteTime": {
     "end_time": "2018-02-05T02:14:54.024804Z",
     "start_time": "2018-02-05T02:14:53.921271Z"
    }
   },
   "outputs": [
    {
     "data": {
      "text/plain": [
       "<matplotlib.axes._subplots.AxesSubplot at 0x21068f04550>"
      ]
     },
     "execution_count": 16,
     "metadata": {},
     "output_type": "execute_result"
    },
    {
     "data": {
      "image/png": "[encoded data removed]",
      "text/plain": [
       "<matplotlib.figure.Figure at 0x21068f032e8>"
      ]
     },
     "metadata": {},
     "output_type": "display_data"
    }
   ],
   "source": [
    "pd.Series(bandit.current_model.Sigma.flatten()).hist()"
   ]
  },
  {
   "cell_type": "code",
   "execution_count": 17,
   "metadata": {
    "ExecuteTime": {
     "end_time": "2018-02-05T02:14:58.459570Z",
     "start_time": "2018-02-05T02:14:58.237592Z"
    }
   },
   "outputs": [
    {
     "data": {
      "text/plain": [
       "<matplotlib.axes._subplots.AxesSubplot at 0x210694e8cc0>"
      ]
     },
     "execution_count": 17,
     "metadata": {},
     "output_type": "execute_result"
    },
    {
     "data": {
      "image/png": "[encoded data removed]",
      "text/plain": [
       "<matplotlib.figure.Figure at 0x210694d3198>"
      ]
     },
     "metadata": {},
     "output_type": "display_data"
    }
   ],
   "source": [
    "pd.DataFrame(bandit_means[0]).plot()"
   ]
  },
  {
   "cell_type": "code",
   "execution_count": 18,
   "metadata": {
    "ExecuteTime": {
     "end_time": "2018-02-05T02:15:01.530944Z",
     "start_time": "2018-02-05T02:15:00.705731Z"
    }
   },
   "outputs": [
    {
     "name": "stderr",
     "output_type": "stream",
     "text": [
      "C:\\Users\\isaac\\Anaconda3\\lib\\site-packages\\ipykernel_launcher.py:4: ComplexWarning: Casting complex values to real discards the imaginary part\n",
      "  after removing the cwd from sys.path.\n"
     ]
    },
    {
     "data": {
      "text/plain": [
       "<matplotlib.axes._subplots.AxesSubplot at 0x210694c2a58>"
      ]
     },
     "execution_count": 18,
     "metadata": {},
     "output_type": "execute_result"
    },
    {
     "data": {
      "image/png": "[encoded data removed]",
      "text/plain": [
       "<matplotlib.figure.Figure at 0x21069507978>"
      ]
     },
     "metadata": {},
     "output_type": "display_data"
    }
   ],
   "source": [
    "eigs = np.empty((N_new, T_new*t, 11))\n",
    "for n in range(N_new):\n",
    "    for time in range(T_new*t):\n",
    "        eigs[n, time] = np.linalg.eigvals(bandit_covs[n, time])\n",
    "pd.DataFrame(np.max(eigs,axis = -1)).T.plot()"
   ]
  },
  {
   "cell_type": "code",
   "execution_count": 20,
   "metadata": {
    "ExecuteTime": {
     "end_time": "2018-02-05T02:15:12.691764Z",
     "start_time": "2018-02-05T02:15:12.551776Z"
    }
   },
   "outputs": [
    {
     "data": {
      "text/plain": [
       "<matplotlib.axes._subplots.AxesSubplot at 0x21069106198>"
      ]
     },
     "execution_count": 20,
     "metadata": {},
     "output_type": "execute_result"
    },
    {
     "data": {
      "image/png": "[encoded data removed]",
      "text/plain": [
       "<matplotlib.figure.Figure at 0x210692e9438>"
      ]
     },
     "metadata": {},
     "output_type": "display_data"
    }
   ],
   "source": [
    "# Probability of \n",
    "pd.DataFrame(probs.T).iloc[:,0].plot()\n",
    "\n",
    "# Posterior Mean changes?\n",
    "# Posterior Variance changes? (too small/big?)"
   ]
  },
  {
   "cell_type": "code",
   "execution_count": 21,
   "metadata": {
    "ExecuteTime": {
     "end_time": "2018-02-05T02:15:14.631838Z",
     "start_time": "2018-02-05T02:15:14.518214Z"
    }
   },
   "outputs": [
    {
     "data": {
      "text/plain": [
       "<matplotlib.axes._subplots.AxesSubplot at 0x210696fe4a8>"
      ]
     },
     "execution_count": 21,
     "metadata": {},
     "output_type": "execute_result"
    },
    {
     "data": {
      "image/png": "[encoded data removed]",
      "text/plain": [
       "<matplotlib.figure.Figure at 0x2106914e240>"
      ]
     },
     "metadata": {},
     "output_type": "display_data"
    }
   ],
   "source": [
    "# Hist of probabilities\n",
    "pd.Series(probs.flatten()).hist()"
   ]
  },
  {
   "cell_type": "code",
   "execution_count": 199,
   "metadata": {
    "ExecuteTime": {
     "end_time": "2018-02-05T01:10:36.435085Z",
     "start_time": "2018-02-05T01:10:36.292925Z"
    }
   },
   "outputs": [
    {
     "data": {
      "text/plain": [
       "<matplotlib.axes._subplots.AxesSubplot at 0x2421ae25908>"
      ]
     },
     "execution_count": 199,
     "metadata": {},
     "output_type": "execute_result"
    },
    {
     "data": {
      "image/png": "[encoded data removed]",
      "text/plain": [
       "<matplotlib.figure.Figure at 0x2421b368400>"
      ]
     },
     "metadata": {},
     "output_type": "display_data"
    }
   ],
   "source": [
    "# Plot of mean (over users) probability over time\n",
    "pd.Series(np.mean(probs, axis = 0)).plot()\n",
    "\n"
   ]
  },
  {
   "cell_type": "code",
   "execution_count": 200,
   "metadata": {
    "ExecuteTime": {
     "end_time": "2018-02-05T01:10:42.713973Z",
     "start_time": "2018-02-05T01:10:42.574962Z"
    }
   },
   "outputs": [
    {
     "data": {
      "text/plain": [
       "<matplotlib.axes._subplots.AxesSubplot at 0x2421b3689e8>"
      ]
     },
     "execution_count": 200,
     "metadata": {},
     "output_type": "execute_result"
    },
    {
     "data": {
      "image/png": "[encoded data removed]",
      "text/plain": [
       "<matplotlib.figure.Figure at 0x2421b1d8dd8>"
      ]
     },
     "metadata": {},
     "output_type": "display_data"
    }
   ],
   "source": [
    "# Histogram of mean probabilities per user\n",
    "pd.Series(np.mean(probs, axis = 1)).hist()"
   ]
  },
  {
   "cell_type": "code",
   "execution_count": 165,
   "metadata": {
    "ExecuteTime": {
     "end_time": "2018-02-02T08:18:03.655141Z",
     "start_time": "2018-02-02T08:18:03.439541Z"
    }
   },
   "outputs": [
    {
     "data": {
      "text/plain": [
       "<matplotlib.axes._subplots.AxesSubplot at 0x213be3b7e80>"
      ]
     },
     "execution_count": 165,
     "metadata": {},
     "output_type": "execute_result"
    },
    {
     "data": {
      "image/png": "[encoded data removed]",
      "text/plain": [
       "<matplotlib.figure.Figure at 0x213befb6550>"
      ]
     },
     "metadata": {},
     "output_type": "display_data"
    }
   ],
   "source": [
    "# Actions actually taken\n",
    "pd.DataFrame(action[0].T).plot()"
   ]
  },
  {
   "cell_type": "code",
   "execution_count": 166,
   "metadata": {
    "ExecuteTime": {
     "end_time": "2018-02-02T08:18:07.538915Z",
     "start_time": "2018-02-02T08:18:07.367461Z"
    }
   },
   "outputs": [
    {
     "data": {
      "text/plain": [
       "<matplotlib.axes._subplots.AxesSubplot at 0x213c15c7358>"
      ]
     },
     "execution_count": 166,
     "metadata": {},
     "output_type": "execute_result"
    },
    {
     "data": {
      "image/png": "[encoded data removed]",
      "text/plain": [
       "<matplotlib.figure.Figure at 0x213c161fc88>"
      ]
     },
     "metadata": {},
     "output_type": "display_data"
    }
   ],
   "source": [
    "pd.Series(action.flatten()).hist()"
   ]
  },
  {
   "cell_type": "code",
   "execution_count": 167,
   "metadata": {
    "ExecuteTime": {
     "end_time": "2018-02-02T08:18:12.150213Z",
     "start_time": "2018-02-02T08:18:11.993796Z"
    }
   },
   "outputs": [
    {
     "data": {
      "text/plain": [
       "<matplotlib.axes._subplots.AxesSubplot at 0x213c16fc438>"
      ]
     },
     "execution_count": 167,
     "metadata": {},
     "output_type": "execute_result"
    },
    {
     "data": {
      "image/png": "[encoded data removed]",
      "text/plain": [
       "<matplotlib.figure.Figure at 0x213c15f7860>"
      ]
     },
     "metadata": {},
     "output_type": "display_data"
    }
   ],
   "source": [
    "# Hist of number of actions taken per day (out of 5)\n",
    "pd.Series(np.sum(action.reshape((N_new, T_new, t)), axis = 2).flatten()).hist()\n",
    "\n"
   ]
  },
  {
   "cell_type": "code",
   "execution_count": 168,
   "metadata": {
    "ExecuteTime": {
     "end_time": "2018-02-02T08:18:15.493047Z",
     "start_time": "2018-02-02T08:18:15.312050Z"
    }
   },
   "outputs": [
    {
     "data": {
      "text/plain": [
       "<matplotlib.axes._subplots.AxesSubplot at 0x213c178bc50>"
      ]
     },
     "execution_count": 168,
     "metadata": {},
     "output_type": "execute_result"
    },
    {
     "data": {
      "image/png": "[encoded data removed]",
      "text/plain": [
       "<matplotlib.figure.Figure at 0x213c17aa0b8>"
      ]
     },
     "metadata": {},
     "output_type": "display_data"
    }
   ],
   "source": [
    "pd.DataFrame(regret[0].T).plot()"
   ]
  },
  {
   "cell_type": "code",
   "execution_count": 23,
   "metadata": {
    "ExecuteTime": {
     "end_time": "2018-02-05T03:25:51.678602Z",
     "start_time": "2018-02-05T03:25:51.098157Z"
    }
   },
   "outputs": [
    {
     "data": {
      "image/png": "[encoded data removed]",
      "text/plain": [
       "<matplotlib.figure.Figure at 0x21069264198>"
      ]
     },
     "metadata": {},
     "output_type": "display_data"
    },
    {
     "data": {
      "image/png": "[encoded data removed]",
      "text/plain": [
       "<matplotlib.figure.Figure at 0x2106925fc50>"
      ]
     },
     "metadata": {},
     "output_type": "display_data"
    },
    {
     "data": {
      "image/png": "[encoded data removed]",
      "text/plain": [
       "<matplotlib.figure.Figure at 0x21068fa9668>"
      ]
     },
     "metadata": {},
     "output_type": "display_data"
    },
    {
     "data": {
      "image/png": "[encoded data removed]",
      "text/plain": [
       "<matplotlib.figure.Figure at 0x21068f65978>"
      ]
     },
     "metadata": {},
     "output_type": "display_data"
    }
   ],
   "source": [
    "# Cumulative regret for users\n",
    "for i in range(N_new):\n",
    "    if i%5 == 0:\n",
    "        (np.cumsum(pd.DataFrame(regret), axis = 1))[i:i+5].T.plot()\n",
    "    \n",
    "    "
   ]
  },
  {
   "cell_type": "code",
   "execution_count": null,
   "metadata": {
    "collapsed": true
   },
   "outputs": [],
   "source": [
    "# Todo:\n",
    "\n",
    "# Understand algorithm (Current Bandit, simulation data, generative model, tuning parameters etc)\n",
    "# Future: How to generate data where features are based on prior actions?\n",
    "\n",
    "# See difference between 1 user and averaged N>1 users\n",
    "\n",
    "# Feedback controller:\n",
    "# Currently not implemented\n",
    "# First step: understand impact of \\alpha based on quality metrics"
   ]
  }
 ],
 "metadata": {
  "anaconda-cloud": {},
  "kernelspec": {
   "display_name": "Python 3",
   "language": "python",
   "name": "python3"
  },
  "language_info": {
   "codemirror_mode": {
    "name": "ipython",
    "version": 3
   },
   "file_extension": ".py",
   "mimetype": "text/x-python",
   "name": "python",
   "nbconvert_exporter": "python",
   "pygments_lexer": "ipython3",
   "version": "3.6.3"
  },
  "latex_envs": {
   "LaTeX_envs_menu_present": true,
   "autocomplete": true,
   "bibliofile": "biblio.bib",
   "cite_by": "apalike",
   "current_citInitial": 1,
   "eqLabelWithNumbers": true,
   "eqNumInitial": 1,
   "hotkeys": {
    "equation": "Ctrl-E",
    "itemize": "Ctrl-I"
   },
   "labels_anchors": false,
   "latex_user_defs": false,
   "report_style_numbering": false,
   "user_envs_cfg": false
  }
 },
 "nbformat": 4,
 "nbformat_minor": 1
}
